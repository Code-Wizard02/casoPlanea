{
 "cells": [
  {
   "cell_type": "code",
   "execution_count": 101,
   "metadata": {},
   "outputs": [],
   "source": [
    "import pandas as pd\n",
    "import numpy as np\n",
    "import warnings\n",
    "\n",
    "datos2015=pd.read_excel('./datosUnificados/datos2015.xlsx')\n",
    "datos2015.drop('% DE ALUMNOS EVALUADOS EN LA ESCUELA EN EL 2015', axis=1, inplace=True)\n",
    "datos2015.drop('ALUMNOS EVALUADOS MENOR AL 80%', axis=1, inplace=True)\n",
    "datos2015.drop('ALUMNOS QUE CONTESTARON 50% O MÁS PREGUNTAS DE LENGUAJE Y COMUNICACIÓN',axis=1,inplace=True)\n",
    "datos2015.drop('ALUMNOS QUE CONTESTARON 50% O MÁS PREGUNTAS DE MATEMÁTICAS',axis=1,inplace=True)\n",
    "datos2015.drop('% DE ALUMNOS DE LA MISMA ENTIDAD, SUBSISTEMA Y GRADO DE MARGINACIÓN EN CADA NIVEL DE DESEMPEÑO EN LENGUAJE Y COMUNICACIÓN 2015',axis=1,inplace=True)\n",
    "datos2015.drop('Unnamed: 22',axis=1,inplace=True)\n",
    "datos2015.drop('Unnamed: 23',axis=1,inplace=True)\n",
    "datos2015.drop('Unnamed: 24',axis=1,inplace=True)\n",
    "datos2015.drop('% DE ALUMNOS DEL PAÍS DEL MISMO SUBSISTEMA Y GRADO DE MARGINACIÓN EN CADA NIVEL DE DESEMPEÑO EN LENGUAJE Y COMUNICACIÓN 2015',axis=1, inplace=True)\n",
    "datos2015.drop('Unnamed: 26',axis=1,inplace=True)\n",
    "datos2015.drop('Unnamed: 27',axis=1,inplace=True)\n",
    "datos2015.drop('Unnamed: 28',axis=1,inplace=True)\n",
    "datos2015.drop('% DE ALUMNOS DE LA MISMA ENTIDAD, SUBSISTEMA Y GRADO DE MARGINACIÓN EN CADA NIVEL DE DESEMPEÑO EN MATEMÁTICAS 2015',axis=1,inplace=True)\n",
    "datos2015.drop('Unnamed: 34',axis=1,inplace=True)\n",
    "datos2015.drop('Unnamed: 35',axis=1,inplace=True)\n",
    "datos2015.drop('Unnamed: 36',axis=1,inplace=True)\n",
    "datos2015.drop('% DE ALUMNOS DEL PAÍS DEL MISMO SUBSISTEMA Y GRADO DE MARGINACIÓN EN CADA NIVEL DE DESEMPEÑO EN MATEMÁTICAS 2015',axis=1,inplace=True)\n",
    "datos2015.drop('Unnamed: 38',axis=1,inplace=True)\n",
    "datos2015.drop('Unnamed: 39',axis=1,inplace=True)\n",
    "datos2015.drop('Unnamed: 40',axis=1,inplace=True)\n",
    "\n",
    "datos2015.to_excel('./datosModificados/datos2015.xlsx', index=False)"
   ]
  },
  {
   "cell_type": "code",
   "execution_count": 102,
   "metadata": {},
   "outputs": [],
   "source": [
    "#Renombrando las columnas de acuerdo a la información que contienen\n",
    "datos2015 = datos2015.rename(columns={'% DE ALUMNOS DE LA ESCUELA EN CADA NIVEL DE DESEMPEÑO EN LENGUAJE Y COMUNICACIÓN 2015': '% ALUMNOS EN LENGUAJE Y COMUNICACIÓN NIVEL I'})\n",
    "datos2015 = datos2015.rename(columns={'Unnamed: 18': '% ALUMNOS EN LENGUAJE Y COMUNICACIÓN NIVEL II'})\n",
    "datos2015 = datos2015.rename(columns={'Unnamed: 19': '% ALUMNOS EN LENGUAJE Y COMUNICACIÓN NIVEL III'})\n",
    "datos2015 = datos2015.rename(columns={'Unnamed: 20': '% ALUMNOS EN LENGUAJE Y COMUNICACIÓN NIVEL IV'})\n",
    "\n",
    "datos2015 = datos2015.rename(columns={'% DE ALUMNOS DE LA ESCUELA EN CADA NIVEL DE DESEMPEÑO EN MATEMÁTICAS 2015': '% ALUMNOS EN MATEMÁTICAS NIVEL I'})\n",
    "datos2015 = datos2015.rename(columns={'Unnamed: 30': '% ALUMNOS EN MATEMÁTICAS NIVEL II'})\n",
    "datos2015 = datos2015.rename(columns={'Unnamed: 31': '% ALUMNOS EN MATEMÁTICAS NIVEL III'})\n",
    "datos2015 = datos2015.rename(columns={'Unnamed: 32': '% ALUMNOS EN MATEMÁTICAS NIVEL IV'})\n",
    "\n",
    "datos2015 = datos2015.rename(columns={'ALUMNOS PROGRAMADOS PARA SER EVALUADOS': 'ALUMNOS PROGRAMADOS'})\n",
    "\n",
    "datos2015.to_excel('./datosModificados/datos2015.xlsx', index=False)"
   ]
  },
  {
   "cell_type": "code",
   "execution_count": 103,
   "metadata": {},
   "outputs": [],
   "source": [
    "#Pasar a float las columnas de los niveles o porcentajes\n",
    "columnas = [\n",
    "    \"% ALUMNOS EN LENGUAJE Y COMUNICACIÓN NIVEL I\",\n",
    "    \"% ALUMNOS EN LENGUAJE Y COMUNICACIÓN NIVEL II\",\n",
    "    \"% ALUMNOS EN LENGUAJE Y COMUNICACIÓN NIVEL III\",\n",
    "    \"% ALUMNOS EN LENGUAJE Y COMUNICACIÓN NIVEL IV\",\n",
    "    \"% ALUMNOS EN MATEMÁTICAS NIVEL I\",\n",
    "    \"% ALUMNOS EN MATEMÁTICAS NIVEL II\",\n",
    "    \"% ALUMNOS EN MATEMÁTICAS NIVEL III\",\n",
    "    \"% ALUMNOS EN MATEMÁTICAS NIVEL IV\"\n",
    "]\n",
    "for col in columnas:\n",
    "    datos2015[col] = pd.to_numeric(datos2015[col], errors='coerce') \n",
    "datos2015.to_excel('./datosModificados/datos2015.xlsx', index=False)"
   ]
  },
  {
   "cell_type": "code",
   "execution_count": 104,
   "metadata": {},
   "outputs": [],
   "source": [
    "#Acomodar con el metodo reindex\n",
    "datos2015 = datos2015.reindex([\n",
    "    'CLAVE DE LA ENTIDAD', 'ENTIDAD', 'CLAVE DE LA ESCUELA', 'NOMBRE DE LA ESCUELA', \n",
    "    'TURNO', 'EXTENSIÓN', 'NOMBRE DEL MUNICIPIO', 'NOMBRE DE LA LOCALIDAD', \n",
    "    'SUBSISTEMA', 'GRADO DE MARGINACIÓN DE LA LOCALIDAD DONDE SE UBICA EL CCT', \n",
    "    'SOSTENIMIENTO', 'ALUMNOS PROGRAMADOS','ALUMNOS EVALUADOS', \n",
    "    '% ALUMNOS EN LENGUAJE Y COMUNICACIÓN NIVEL I', '% ALUMNOS EN LENGUAJE Y COMUNICACIÓN NIVEL II', \n",
    "    '% ALUMNOS EN LENGUAJE Y COMUNICACIÓN NIVEL III', '% ALUMNOS EN LENGUAJE Y COMUNICACIÓN NIVEL IV', \n",
    "    '% ALUMNOS EN MATEMÁTICAS NIVEL I', '% ALUMNOS EN MATEMÁTICAS NIVEL II', \n",
    "    '% ALUMNOS EN MATEMÁTICAS NIVEL III', '% ALUMNOS EN MATEMÁTICAS NIVEL IV'\n",
    "], axis=1)\n",
    "datos2015.to_excel('./datosModificados/datos2015.xlsx', index=False)"
   ]
  },
  {
   "cell_type": "code",
   "execution_count": 105,
   "metadata": {},
   "outputs": [],
   "source": [
    "# Eliminar filas con almenos 7 valores nulos\n",
    "datos2015 = datos2015.dropna(thresh=len(datos2015.columns)-7)\n",
    "datos2015.to_excel('./datosModificados/datos2015.xlsx', index=False)"
   ]
  },
  {
   "cell_type": "code",
   "execution_count": 106,
   "metadata": {},
   "outputs": [
    {
     "name": "stdout",
     "output_type": "stream",
     "text": [
      "['EXTENSIÓN 0' 'EXTENSIÓN 1' 'EXTENSIÓN 2' 'EXTENSIÓN 3' 'EXTENSIÓN 4'\n",
      " 'EXTENSIÓN 6' 'EXTENSIÓN 9' 'EXTENSIÓN 10' 'EXTENSIÓN 11' 'EXTENSIÓN 14'\n",
      " 'EXTENSIÓN 17' 'EXTENSIÓN 22' 'EXTENSIÓN 26' 'EXTENSIÓN 19'\n",
      " 'EXTENSIÓN 21' 'EXTENSIÓN 25' 'TECARIO' 'EXTENSIÓN 48' 'EXTENSIÓN 5'\n",
      " 'EXTENSIÓN 7' 'EXTENSIÓN 8']\n"
     ]
    },
    {
     "name": "stderr",
     "output_type": "stream",
     "text": [
      "C:\\Users\\hiper\\AppData\\Local\\Temp\\ipykernel_19872\\3901397232.py:2: FutureWarning: A value is trying to be set on a copy of a DataFrame or Series through chained assignment using an inplace method.\n",
      "The behavior will change in pandas 3.0. This inplace method will never work because the intermediate object on which we are setting values always behaves as a copy.\n",
      "\n",
      "For example, when doing 'df[col].method(value, inplace=True)', try using 'df.method({col: value}, inplace=True)' or df[col] = df[col].method(value) instead, to perform the operation inplace on the original object.\n",
      "\n",
      "\n",
      "  datos2015['EXTENSIÓN'].fillna('EXTENSIÓN 0', inplace=True)\n"
     ]
    }
   ],
   "source": [
    "#Reemplazar los valores nulos de la columna 'EXTENSIÓN' por 'EXTENSIÓN 0'\n",
    "datos2015['EXTENSIÓN'].fillna('EXTENSIÓN 0', inplace=True)\n",
    "\n",
    "# Imprimir los valores de la columna 'EXTENSIÓN' para verificar los valores únicos\n",
    "unique_values = datos2015['EXTENSIÓN'].unique()\n",
    "print(unique_values)"
   ]
  },
  {
   "cell_type": "code",
   "execution_count": 107,
   "metadata": {},
   "outputs": [],
   "source": [
    "# Agregar nombre de la localidad copiando el nombre del municipio en caso de no tener un valor nulo\n",
    "datos2015['NOMBRE DE LA LOCALIDAD'] = datos2015['NOMBRE DE LA LOCALIDAD'].fillna(datos2015['NOMBRE DEL MUNICIPIO'])\n",
    "datos2015.to_excel('./datosModificados/datos2015.xlsx', index=False)"
   ]
  },
  {
   "cell_type": "code",
   "execution_count": 108,
   "metadata": {},
   "outputs": [],
   "source": [
    "# Eliminar '*****' y sustituir por 0.0 en todas las columnas\n",
    "datos2015 = datos2015.replace('*****', 0.0)\n",
    "datos2015.to_excel('./datosModificados/datos2015.xlsx', index=False)"
   ]
  },
  {
   "cell_type": "code",
   "execution_count": 109,
   "metadata": {},
   "outputs": [],
   "source": [
    "#Rellenar los valores nulos y los NaN con 0.0\n",
    "datos2015 = datos2015.fillna(0.0)\n",
    "datos2015.to_excel('./datosModificados/datos2015.xlsx', index=False)"
   ]
  },
  {
   "cell_type": "code",
   "execution_count": 110,
   "metadata": {},
   "outputs": [],
   "source": [
    "# Crear las columnas para obtener la cantidad de estudiantes en cada nivel de desempeño en matematicas y lenguaje y comunicacion\n",
    "datos2015['CANTIDAD ALUMNOS EN LENGUAJE Y COMUNICACIÓN NIVEL I'] = ((datos2015['% ALUMNOS EN LENGUAJE Y COMUNICACIÓN NIVEL I'] * datos2015['ALUMNOS EVALUADOS']) / 100).astype(int)\n",
    "datos2015['CANTIDAD ALUMNOS EN LENGUAJE Y COMUNICACIÓN NIVEL II'] = ((datos2015['% ALUMNOS EN LENGUAJE Y COMUNICACIÓN NIVEL II'] * datos2015['ALUMNOS EVALUADOS']) / 100).astype(int)\n",
    "datos2015['CANTIDAD ALUMNOS EN LENGUAJE Y COMUNICACIÓN NIVEL III'] = ((datos2015['% ALUMNOS EN LENGUAJE Y COMUNICACIÓN NIVEL III'] * datos2015['ALUMNOS EVALUADOS']) / 100).astype(int)\n",
    "datos2015['CANTIDAD ALUMNOS EN LENGUAJE Y COMUNICACIÓN NIVEL IV'] = ((datos2015['% ALUMNOS EN LENGUAJE Y COMUNICACIÓN NIVEL IV'] * datos2015['ALUMNOS EVALUADOS']) / 100).astype(int)\n",
    "\n",
    "datos2015['CANTIDAD ALUMNOS EN MATEMÁTICAS NIVEL I'] = ((datos2015['% ALUMNOS EN MATEMÁTICAS NIVEL I'] * datos2015['ALUMNOS EVALUADOS']) / 100).astype(int)\n",
    "datos2015['CANTIDAD ALUMNOS EN MATEMÁTICAS NIVEL II'] = ((datos2015['% ALUMNOS EN MATEMÁTICAS NIVEL II'] * datos2015['ALUMNOS EVALUADOS']) / 100).astype(int)\n",
    "datos2015['CANTIDAD ALUMNOS EN MATEMÁTICAS NIVEL III'] = ((datos2015['% ALUMNOS EN MATEMÁTICAS NIVEL III'] * datos2015['ALUMNOS EVALUADOS']) / 100).astype(int)\n",
    "datos2015['CANTIDAD ALUMNOS EN MATEMÁTICAS NIVEL IV'] = ((datos2015['% ALUMNOS EN MATEMÁTICAS NIVEL IV'] * datos2015['ALUMNOS EVALUADOS']) / 100).astype(int)\n",
    "\n",
    "datos2015.to_excel('./datosModificados/datos2015.xlsx', index=False)\n"
   ]
  },
  {
   "cell_type": "code",
   "execution_count": 111,
   "metadata": {},
   "outputs": [
    {
     "name": "stdout",
     "output_type": "stream",
     "text": [
      "Columnas con valores nulos:\n",
      "\n",
      "Columnas con NaN:\n",
      "\n",
      "Filas con valores nulos:\n",
      "\n",
      "Filas con NaN:\n"
     ]
    }
   ],
   "source": [
    "# Imprimir el nombre de las columnas que tienen valores nulos\n",
    "print(\"Columnas con valores nulos:\")\n",
    "for col in datos2015.columns:\n",
    "    if datos2015[col].isnull().any():\n",
    "        print(col)\n",
    "\n",
    "# Imprimir el nombre de las columnas con NaN\n",
    "print(\"\\nColumnas con NaN:\")\n",
    "for col in datos2015.columns:\n",
    "    if datos2015[col].isnull().any():\n",
    "        print(col)\n",
    "\n",
    "# Imprimir el numero de la fila donde hay valores nulos\n",
    "print(\"\\nFilas con valores nulos:\")\n",
    "for index, row in datos2015.iterrows():\n",
    "    if row.isnull().any():\n",
    "        print(f\"Fila {index}: {row[row.isnull()].index.tolist()}\")\n",
    "\n",
    "# Imprimir el numero de la fila donde hay NaN\n",
    "print(\"\\nFilas con NaN:\")\n",
    "for index, row in datos2015.iterrows():\n",
    "    if row.isnull().any():\n",
    "        print(f\"Fila {index}: {row[row.isnull()].index.tolist()}\")"
   ]
  },
  {
   "cell_type": "code",
   "execution_count": 112,
   "metadata": {},
   "outputs": [
    {
     "name": "stdout",
     "output_type": "stream",
     "text": [
      "Tipos de datos en el DataFrame:\n",
      " CLAVE DE LA ENTIDAD                                           float64\n",
      "ENTIDAD                                                        object\n",
      "CLAVE DE LA ESCUELA                                            object\n",
      "NOMBRE DE LA ESCUELA                                           object\n",
      "TURNO                                                          object\n",
      "EXTENSIÓN                                                      object\n",
      "NOMBRE DEL MUNICIPIO                                           object\n",
      "NOMBRE DE LA LOCALIDAD                                         object\n",
      "SUBSISTEMA                                                     object\n",
      "GRADO DE MARGINACIÓN DE LA LOCALIDAD DONDE SE UBICA EL CCT     object\n",
      "SOSTENIMIENTO                                                  object\n",
      "ALUMNOS PROGRAMADOS                                             int64\n",
      "ALUMNOS EVALUADOS                                               int64\n",
      "% ALUMNOS EN LENGUAJE Y COMUNICACIÓN NIVEL I                  float64\n",
      "% ALUMNOS EN LENGUAJE Y COMUNICACIÓN NIVEL II                 float64\n",
      "% ALUMNOS EN LENGUAJE Y COMUNICACIÓN NIVEL III                float64\n",
      "% ALUMNOS EN LENGUAJE Y COMUNICACIÓN NIVEL IV                 float64\n",
      "% ALUMNOS EN MATEMÁTICAS NIVEL I                              float64\n",
      "% ALUMNOS EN MATEMÁTICAS NIVEL II                             float64\n",
      "% ALUMNOS EN MATEMÁTICAS NIVEL III                            float64\n",
      "% ALUMNOS EN MATEMÁTICAS NIVEL IV                             float64\n",
      "CANTIDAD ALUMNOS EN LENGUAJE Y COMUNICACIÓN NIVEL I             int64\n",
      "CANTIDAD ALUMNOS EN LENGUAJE Y COMUNICACIÓN NIVEL II            int64\n",
      "CANTIDAD ALUMNOS EN LENGUAJE Y COMUNICACIÓN NIVEL III           int64\n",
      "CANTIDAD ALUMNOS EN LENGUAJE Y COMUNICACIÓN NIVEL IV            int64\n",
      "CANTIDAD ALUMNOS EN MATEMÁTICAS NIVEL I                         int64\n",
      "CANTIDAD ALUMNOS EN MATEMÁTICAS NIVEL II                        int64\n",
      "CANTIDAD ALUMNOS EN MATEMÁTICAS NIVEL III                       int64\n",
      "CANTIDAD ALUMNOS EN MATEMÁTICAS NIVEL IV                        int64\n",
      "dtype: object\n"
     ]
    }
   ],
   "source": [
    "# Verificando los tipos de datos\n",
    "print(\"Tipos de datos en el DataFrame:\\n\", datos2015.dtypes)\n"
   ]
  },
  {
   "cell_type": "code",
   "execution_count": 3,
   "metadata": {},
   "outputs": [],
   "source": [
    "import pandas as pd\n",
    "#Leer el archivo Excel modificado\n",
    "datos2015 = pd.read_excel('./datosModificados/datos2015.xlsx')\n",
    "# Añadir la columna 'AÑO' con el valor 2015\n",
    "datos2015['AÑO'] = 2015\n",
    "# Guardar el DataFrame modificado en un nuevo archivo Excel\n",
    "datos2015.to_excel('./datosModificados/datos2015.xlsx', index=False)"
   ]
  }
 ],
 "metadata": {
  "kernelspec": {
   "display_name": "Python 3",
   "language": "python",
   "name": "python3"
  },
  "language_info": {
   "codemirror_mode": {
    "name": "ipython",
    "version": 3
   },
   "file_extension": ".py",
   "mimetype": "text/x-python",
   "name": "python",
   "nbconvert_exporter": "python",
   "pygments_lexer": "ipython3",
   "version": "3.13.1"
  }
 },
 "nbformat": 4,
 "nbformat_minor": 2
}
