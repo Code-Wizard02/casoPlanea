{
 "cells": [
  {
   "cell_type": "code",
   "execution_count": 5,
   "metadata": {},
   "outputs": [
    {
     "name": "stdout",
     "output_type": "stream",
     "text": [
      "Datos Población:  7\n",
      "Entidad federativa     object\n",
      "PoblacionTotal2010      int64\n",
      "Poblacion10a14-2010     int64\n",
      "Poblacion15a19-2010     int64\n",
      "PoblacionTotal2020      int64\n",
      "Poblacion10a14-2020     int64\n",
      "Poblacion15a19-2020     int64\n",
      "dtype: object\n"
     ]
    }
   ],
   "source": [
    "import pandas as pd\n",
    "datosPoblacion=pd.read_excel('Poblacion_01.xlsx')\n",
    "\n",
    "# Agregar 6 columnas, PoblacionTotal2010, Poblacion10a14-2010, Poblacion15a19-2010, PoblacionTotal2020, Poblacion10a14-2020, Poblacion15a19-2020\n",
    "datosPoblacion['PoblacionTotal2010'] = 0\n",
    "datosPoblacion['Poblacion10a14-2010'] = 0\n",
    "datosPoblacion['Poblacion15a19-2010'] = 0\n",
    "datosPoblacion['PoblacionTotal2020'] = 0\n",
    "datosPoblacion['Poblacion10a14-2020'] = 0\n",
    "datosPoblacion['Poblacion15a19-2020'] = 0\n",
    "\n",
    "# Asignar valores a las nuevas columnas según el grupo quinquenal de edad\n",
    "for i, row in datosPoblacion.iterrows():\n",
    "    if row['Grupo quinquenal de edad'] == 'Total':\n",
    "        datosPoblacion.at[i, 'PoblacionTotal2010'] = row['Total 2010']\n",
    "        datosPoblacion.at[i, 'PoblacionTotal2020'] = row['Total 2020']\n",
    "    elif row['Grupo quinquenal de edad'] == '10 a 14 años':\n",
    "        datosPoblacion.at[i, 'Poblacion10a14-2010'] = row['Total 2010']\n",
    "        datosPoblacion.at[i, 'Poblacion10a14-2020'] = row['Total 2020']\n",
    "    elif row['Grupo quinquenal de edad'] == '15 a 19 años':\n",
    "        datosPoblacion.at[i, 'Poblacion15a19-2010'] = row['Total 2010']\n",
    "        datosPoblacion.at[i, 'Poblacion15a19-2020'] = row['Total 2020']\n",
    "\n",
    "# Eliminar las filas donde la entidad federativa es 'Estados Unidos Mexicanos'\n",
    "datosPoblacion = datosPoblacion[datosPoblacion['Entidad federativa'] != 'Estados Unidos Mexicanos']\n",
    "\n",
    "# Eliminar columnas Grupo quinquenal de edad, Total 2010 y Total 2020\n",
    "datosPoblacion = datosPoblacion.drop(columns=['Grupo quinquenal de edad', 'Total 2010', 'Total 2020'])\n",
    "\n",
    "# Consolidar valores de población en la primera coincidencia de cada entidad\n",
    "for entidad in datosPoblacion['Entidad federativa'].unique():\n",
    "    entidad_rows = datosPoblacion[datosPoblacion['Entidad federativa'] == entidad]\n",
    "    if len(entidad_rows) > 1:\n",
    "        first_index = entidad_rows.index[0]\n",
    "        datosPoblacion.at[first_index, 'PoblacionTotal2010'] = entidad_rows['PoblacionTotal2010'].sum()\n",
    "        datosPoblacion.at[first_index, 'Poblacion10a14-2010'] = entidad_rows['Poblacion10a14-2010'].sum()\n",
    "        datosPoblacion.at[first_index, 'Poblacion15a19-2010'] = entidad_rows['Poblacion15a19-2010'].sum()\n",
    "        datosPoblacion.at[first_index, 'PoblacionTotal2020'] = entidad_rows['PoblacionTotal2020'].sum()\n",
    "        datosPoblacion.at[first_index, 'Poblacion10a14-2020'] = entidad_rows['Poblacion10a14-2020'].sum()\n",
    "        datosPoblacion.at[first_index, 'Poblacion15a19-2020'] = entidad_rows['Poblacion15a19-2020'].sum()\n",
    "\n",
    "# Eliminar filas duplicadas dejando solo la primera ocurrencia\n",
    "datosPoblacion = datosPoblacion.drop_duplicates(subset=['Entidad federativa'], keep='first')\n",
    "\n",
    "# Imprimir los datos\n",
    "print(\"Datos Población: \", len(datosPoblacion.columns))\n",
    "print(datosPoblacion.dtypes)\n",
    "\n",
    "datosPoblacion.to_excel('./datosModificados/datosPoblacion.xlsx', index=False)"
   ]
  },
  {
   "cell_type": "code",
   "execution_count": 6,
   "metadata": {},
   "outputs": [],
   "source": [
    "import pandas as pd\n",
    "\n",
    "# Leer el archivo Excel modificado\n",
    "datosPoblacion = pd.read_excel('./datosModificados/datosPoblacion.xlsx')\n",
    "\n",
    "# Agregar columna 'CLAVE DE LA ENTIDAD'\tenumerando de 1 a la ultima entidad\n",
    "datosPoblacion['CLAVE DE LA ENTIDAD'] = range(1, len(datosPoblacion) + 1)\n",
    "\n",
    "# Reordenar las columnas para que 'CLAVE DE LA ENTIDAD' esté al principio\n",
    "columnas = ['CLAVE DE LA ENTIDAD'] + [col for col in datosPoblacion.columns if col != 'CLAVE DE LA ENTIDAD']\n",
    "datosPoblacion = datosPoblacion[columnas]\n",
    "\n",
    "# Guardar el DataFrame modificado en un nuevo archivo Excel\n",
    "datosPoblacion.to_excel('./datosModificados/datosPoblacion.xlsx', index=False)"
   ]
  },
  {
   "cell_type": "code",
   "execution_count": 7,
   "metadata": {},
   "outputs": [],
   "source": [
    "# Agregar las 6 columnas de datosPoblacion(PoblacionTotal2010, Poblacion10a14-2010, Poblacion15a19-2010, PoblacionTotal2020, Poblacion10a14-2020, Poblacion15a19-2020) a datosTotal\n",
    "# Leer el archivo Excel de datosTotal\n",
    "datosTotal=pd.read_excel('./datosModificados/datosTotal.xlsx')\n",
    "# Unir los DataFrames en función de la columna 'CLAVE DE LA ENTIDAD'\n",
    "datosTotal = pd.merge(datosTotal, datosPoblacion[['CLAVE DE LA ENTIDAD', 'PoblacionTotal2010', 'Poblacion10a14-2010', 'Poblacion15a19-2010', 'PoblacionTotal2020', 'Poblacion10a14-2020', 'Poblacion15a19-2020']], on='CLAVE DE LA ENTIDAD', how='left')\n",
    "# Guardar el DataFrame modificado en un nuevo archivo Excel\n",
    "datosTotal.to_excel('./datosModificados/datosTotalTry#1.xlsx', index=False)\n"
   ]
  }
 ],
 "metadata": {
  "kernelspec": {
   "display_name": "Python 3",
   "language": "python",
   "name": "python3"
  },
  "language_info": {
   "codemirror_mode": {
    "name": "ipython",
    "version": 3
   },
   "file_extension": ".py",
   "mimetype": "text/x-python",
   "name": "python",
   "nbconvert_exporter": "python",
   "pygments_lexer": "ipython3",
   "version": "3.12.0"
  }
 },
 "nbformat": 4,
 "nbformat_minor": 2
}
