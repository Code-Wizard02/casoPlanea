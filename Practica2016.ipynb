{
 "cells": [
  {
   "cell_type": "code",
   "execution_count": 3,
   "metadata": {},
   "outputs": [],
   "source": [
    "import pandas as pd\n",
    "import numpy as np\n",
    "import warnings\n",
    "datos2016=pd.read_excel('./datosUnificados/datos2016.xlsx')\n",
    "\n",
    "datos2016.drop('RESULTADO REPRESENTATIVO DE LA ESCUELA', axis=1, inplace=True)\n",
    "datos2016.drop('Unnamed: 13', axis=1, inplace=True) \n",
    "\n",
    "datos2016.drop('% DE ALUMNOS DE LA MISMA ENTIDAD, SUBSISTEMA Y GRADO DE MARGINACIÓN EN CADA NIVEL DE LOGRO EN LENGUAJE Y COMUNICACIÓN 2016', axis=1, inplace=True)\n",
    "datos2016.drop('Unnamed: 21', axis=1, inplace=True) \n",
    "datos2016.drop('Unnamed: 22', axis=1, inplace=True) \n",
    "datos2016.drop('Unnamed: 23', axis=1, inplace=True) \n",
    "\n",
    "datos2016.drop('% DE ALUMNOS DEL PAÍS DEL MISMO SUBSISTEMA Y GRADO DE MARGINACIÓN EN CADA NIVEL DE LOGRO EN LENGUAJE Y COMUNICACIÓN 2016', axis=1, inplace=True)\n",
    "datos2016.drop('Unnamed: 25', axis=1, inplace=True) \n",
    "datos2016.drop('Unnamed: 26', axis=1, inplace=True) \n",
    "datos2016.drop('Unnamed: 27', axis=1, inplace=True) \n",
    "\n",
    "datos2016.drop('% DE ALUMNOS DE LA MISMA ENTIDAD, SUBSISTEMA Y GRADO DE MARGINACIÓN EN CADA NIVEL DE LOGRO EN MATEMÁTICAS 2016', axis=1, inplace=True)\n",
    "datos2016.drop('Unnamed: 33', axis=1, inplace=True) \n",
    "datos2016.drop('Unnamed: 34', axis=1, inplace=True) \n",
    "datos2016.drop('Unnamed: 35', axis=1, inplace=True) \n",
    "\n",
    "datos2016.drop('% DE ALUMNOS DEL PAÍS DEL MISMO SUBSISTEMA Y GRADO DE MARGINACIÓN EN CADA NIVEL DE LOGRO EN MATEMÁTICAS 2016', axis=1, inplace=True)\n",
    "datos2016.drop('Unnamed: 37', axis=1, inplace=True) \n",
    "datos2016.drop('Unnamed: 38', axis=1, inplace=True) \n",
    "datos2016.drop('Unnamed: 39', axis=1, inplace=True) \n",
    "\n",
    "datos2016.to_excel('./datosModificados/datos2016.xlsx', index=False)"
   ]
  },
  {
   "cell_type": "code",
   "execution_count": 4,
   "metadata": {},
   "outputs": [],
   "source": [
    "#Renombrando las columnas\n",
    "\n",
    "datos2016 = datos2016.rename(columns={'ALUMNOS QUE CONTESTARON TODAS LAS SESIONES DEL EXAMEN': 'ALUMNOS QUE CONTESTARON TODAS LAS SESIONES DEL EXAMEN LENGUAJE Y COMUNICACIÓN'})\n",
    "datos2016 = datos2016.rename(columns={'Unnamed: 15': 'ALUMNOS QUE CONTESTARON TODAS LAS SESIONES DEL EXAMEN MATEMÁTICAS'})\n",
    "datos2016 = datos2016.rename(columns={'% DE ALUMNOS DE LA ESCUELA EN CADA NIVEL DE LOGRO EN LENGUAJE Y COMUNICACIÓN 2016': '% ALUMNOS EN LENGUAJE Y COMUNICACIÓN NIVEL I'})\n",
    "datos2016 = datos2016.rename(columns={'Unnamed: 17': '% ALUMNOS EN LENGUAJE Y COMUNICACIÓN NIVEL II'})\n",
    "datos2016 = datos2016.rename(columns={'Unnamed: 18': '% ALUMNOS EN LENGUAJE Y COMUNICACIÓN NIVEL III'})\n",
    "datos2016 = datos2016.rename(columns={'Unnamed: 19': '% ALUMNOS EN LENGUAJE Y COMUNICACIÓN NIVEL IV'})\n",
    "datos2016 = datos2016.rename(columns={'% DE ALUMNOS DE LA ESCUELA EN CADA NIVEL DE LOGRO EN MATEMÁTICAS 2016': '% ALUMNOS EN MATEMÁTICAS NIVEL I'})\n",
    "datos2016 = datos2016.rename(columns={'Unnamed: 29': '% ALUMNOS EN MATEMÁTICAS NIVEL II'})\n",
    "datos2016 = datos2016.rename(columns={'Unnamed: 30': '% ALUMNOS EN MATEMÁTICAS NIVEL III'})\n",
    "datos2016 = datos2016.rename(columns={'Unnamed: 31': '% ALUMNOS EN MATEMÁTICAS NIVEL IV'})\n",
    "\n",
    "datos2016 = datos2016.rename(columns={'ALUMNOS QUE CONTESTARON TODAS LAS SESIONES DEL EXAMEN LENGUAJE Y COMUNICACIÓN': 'ALUMNOS EVALUADOS LENGUAJE Y COMUNICACIÓN'})\n",
    "datos2016 = datos2016.rename(columns={'ALUMNOS QUE CONTESTARON TODAS LAS SESIONES DEL EXAMEN MATEMÁTICAS': 'ALUMNOS EVALUADOS MATEMÁTICAS'})\n",
    "datos2016 = datos2016.rename(columns={'ALUMNOS  PROGRAMADOS': 'ALUMNOS PROGRAMADOS'})\n",
    "\n",
    "datos2016.to_excel('./datosModificados/datos2016.xlsx', index=False)"
   ]
  },
  {
   "cell_type": "code",
   "execution_count": 5,
   "metadata": {},
   "outputs": [],
   "source": [
    "#Agregar la columna alumnos evaluados cuyo valor será igual al valor mayor de las columnas alumnos evaluados de matematicas o lenguaje y com\n",
    "datos2016['ALUMNOS EVALUADOS'] = datos2016[['ALUMNOS EVALUADOS LENGUAJE Y COMUNICACIÓN','ALUMNOS EVALUADOS MATEMÁTICAS']].max(axis=1)\n",
    "#datos2016['ALUMNOS EVALUADOS'] = np.where(datos2016['ALUMNOS EVALUADOS'] > datos2016['Unnamed: 14'], datos2016['ALUMNOS EVALUADOS'], datos2016['Unnamed: 14'])\n",
    "\n",
    "#Eliminar las columnas de lyc y mate una vez hecha la columna de alumnos evaluados\n",
    "# datos2016.drop('ALUMNOS EVALUADOS LENGUAJE Y COMUNICACIÓN',axis=1,inplace=True)\n",
    "# datos2016.drop('ALUMNOS EVALUADOS MATEMÁTICAS',axis=1,inplace=True)\n",
    "\n",
    "datos2016.to_excel('./datosModificados/datos2016.xlsx', index=False)\n"
   ]
  },
  {
   "cell_type": "code",
   "execution_count": 6,
   "metadata": {},
   "outputs": [],
   "source": [
    "#Pasar a float las columnas de los niveles o porcentajes\n",
    "columnas = [\n",
    "    \"% ALUMNOS EN LENGUAJE Y COMUNICACIÓN NIVEL I\",\n",
    "    \"% ALUMNOS EN LENGUAJE Y COMUNICACIÓN NIVEL II\",\n",
    "    \"% ALUMNOS EN LENGUAJE Y COMUNICACIÓN NIVEL III\",\n",
    "    \"% ALUMNOS EN LENGUAJE Y COMUNICACIÓN NIVEL IV\",\n",
    "    \"% ALUMNOS EN MATEMÁTICAS NIVEL I\",\n",
    "    \"% ALUMNOS EN MATEMÁTICAS NIVEL II\",\n",
    "    \"% ALUMNOS EN MATEMÁTICAS NIVEL III\",\n",
    "    \"% ALUMNOS EN MATEMÁTICAS NIVEL IV\"\n",
    "]\n",
    "for col in columnas:\n",
    "    datos2016[col] = pd.to_numeric(datos2016[col], errors='coerce')\n",
    "\n",
    "datos2016.to_excel('./datosModificados/datos2016.xlsx', index=False)"
   ]
  },
  {
   "cell_type": "code",
   "execution_count": 7,
   "metadata": {},
   "outputs": [],
   "source": [
    "#Acomodar con el metodo reindex\n",
    "datos2016 = datos2016.reindex([\n",
    "    'CLAVE DE LA ENTIDAD', 'ENTIDAD', 'CLAVE DE LA ESCUELA', 'NOMBRE DE LA ESCUELA', \n",
    "    'TURNO', 'EXTENSIÓN', 'NOMBRE DEL MUNICIPIO', 'NOMBRE DE LA LOCALIDAD', \n",
    "    'SUBSISTEMA', 'GRADO DE MARGINACIÓN DE LA LOCALIDAD DONDE SE UBICA EL CCT', \n",
    "    'SOSTENIMIENTO', 'ALUMNOS PROGRAMADOS', 'ALUMNOS EVALUADOS',\n",
    "    'ALUMNOS EVALUADOS LENGUAJE Y COMUNICACIÓN',\n",
    "    'ALUMNOS EVALUADOS MATEMÁTICAS', \n",
    "    '% ALUMNOS EN LENGUAJE Y COMUNICACIÓN NIVEL I', '% ALUMNOS EN LENGUAJE Y COMUNICACIÓN NIVEL II', \n",
    "    '% ALUMNOS EN LENGUAJE Y COMUNICACIÓN NIVEL III', '% ALUMNOS EN LENGUAJE Y COMUNICACIÓN NIVEL IV', \n",
    "    '% ALUMNOS EN MATEMÁTICAS NIVEL I', '% ALUMNOS EN MATEMÁTICAS NIVEL II', \n",
    "    '% ALUMNOS EN MATEMÁTICAS NIVEL III', '% ALUMNOS EN MATEMÁTICAS NIVEL IV'\n",
    "], axis=1)\n",
    "# datos2016 = datos2016.reindex([\n",
    "#     'CLAVE DE LA ENTIDAD', 'ENTIDAD', 'CLAVE DE LA ESCUELA', 'NOMBRE DE LA ESCUELA', \n",
    "#     'TURNO', 'EXTENSIÓN', 'NOMBRE DEL MUNICIPIO', 'NOMBRE DE LA LOCALIDAD', \n",
    "#     'SUBSISTEMA', 'GRADO DE MARGINACIÓN DE LA LOCALIDAD DONDE SE UBICA EL CCT', \n",
    "#     'SOSTENIMIENTO', 'ALUMNOS PROGRAMADOS', 'ALUMNOS EVALUADOS','ALUMNOS QUE CONTESTARON TODAS LAS SESIONES DEL EXAMEN LENGUAJE Y COMUNICACIÓN',\n",
    "#     'ALUMNOS QUE CONTESTARON TODAS LAS SESIONES DEL EXAMEN MATEMÁTICAS',\n",
    "#     '% DE ALUMNOS LENGUAJE Y COMUNICACIÓN NIVEL I', '% DE ALUMNOS LENGUAJE Y COMUNICACIÓN NIVEL II', \n",
    "#     '% DE ALUMNOS LENGUAJE Y COMUNICACIÓN NIVEL III', '% DE ALUMNOS LENGUAJE Y COMUNICACIÓN NIVEL IV', \n",
    "#     '% DE ALUMNOS MATEMÁTICAS NIVEL I', '% DE ALUMNOS MATEMÁTICAS NIVEL II', \n",
    "#     '% DE ALUMNOS MATEMÁTICAS NIVEL III', '% DE ALUMNOS MATEMÁTICAS NIVEL IV'\n",
    "# ], axis=1)\n",
    "datos2016.to_excel('./datosModificados/datos2016.xlsx', index=False)"
   ]
  },
  {
   "cell_type": "code",
   "execution_count": 8,
   "metadata": {},
   "outputs": [],
   "source": [
    "# Eliminar filas con almenos 7 valores nulos\n",
    "datos2016 = datos2016.dropna(thresh=7)\n",
    "datos2016.to_excel('./datosModificados/datos2016.xlsx', index=False)"
   ]
  },
  {
   "cell_type": "code",
   "execution_count": 9,
   "metadata": {},
   "outputs": [
    {
     "name": "stdout",
     "output_type": "stream",
     "text": [
      "['EXTENSIÓN 0' 'EXTENSIÓN 3' 'EXTENSIÓN 2' 'EXTENSIÓN 1' 'EXTENSIÓN'\n",
      " 'EXTENSIÓN 6' 'EXTENSIÓN 5' 'EXTENSIÓN 7' 'EXTENSIÓN 8' 'EXTENSIÓN 4'\n",
      " 'EXTENSIÓN 11' 'EXTENSIÓN 10' 'EXTENSIÓN 22' 'EXTENSIÓN 26'\n",
      " 'EXTENSIÓN 19' 'EXTENSIÓN 21' 'EXTENSIÓN 14' 'EXTENSIÓN 9' 'EXTENSIÓN 25'\n",
      " 'EXTENSIÓN 17' 'CONTEPEC' 'TEPUXTEPEC' 'APEO' 'MESETA' 'EXTENSIÓN2'\n",
      " 'EXTENSIÓN1']\n"
     ]
    },
    {
     "name": "stderr",
     "output_type": "stream",
     "text": [
      "C:\\Users\\hiper\\AppData\\Local\\Temp\\ipykernel_17072\\457214805.py:2: FutureWarning: A value is trying to be set on a copy of a DataFrame or Series through chained assignment using an inplace method.\n",
      "The behavior will change in pandas 3.0. This inplace method will never work because the intermediate object on which we are setting values always behaves as a copy.\n",
      "\n",
      "For example, when doing 'df[col].method(value, inplace=True)', try using 'df.method({col: value}, inplace=True)' or df[col] = df[col].method(value) instead, to perform the operation inplace on the original object.\n",
      "\n",
      "\n",
      "  datos2016['EXTENSIÓN'].fillna('EXTENSIÓN 0', inplace=True)\n"
     ]
    }
   ],
   "source": [
    "#Reemplazar los valores nulos de la columna 'EXTENSIÓN' por 'EXTENSIÓN 0'\n",
    "datos2016['EXTENSIÓN'].fillna('EXTENSIÓN 0', inplace=True)\n",
    "\n",
    "# Imprimir los valores de la columna 'EXTENSIÓN' para verificar los valores únicos\n",
    "unique_values = datos2016['EXTENSIÓN'].unique()\n",
    "print(unique_values)"
   ]
  },
  {
   "cell_type": "code",
   "execution_count": 10,
   "metadata": {},
   "outputs": [],
   "source": [
    "# Eliminar '*****' y sustituir por 0.0 en todas las columnas\n",
    "datos2016 = datos2016.replace('*****', 0.0)\n",
    "datos2016.to_excel('./datosModificados/datos2016.xlsx', index=False)"
   ]
  },
  {
   "cell_type": "code",
   "execution_count": 11,
   "metadata": {},
   "outputs": [
    {
     "name": "stdout",
     "output_type": "stream",
     "text": [
      "['15ETK0003O' '15ETK0004N' '15ETK0007K' '15ETK0008J' '15ETK0009I'\n",
      " '15ETK0010Y' '20DCT0013Z']\n"
     ]
    }
   ],
   "source": [
    "# Obtener las claves de las escuela que tienen nombre de escuela nulo\n",
    "datos2016['CLAVE DE LA ESCUELA'] = datos2016['CLAVE DE LA ESCUELA'].astype(str)\n",
    "nulos = datos2016[datos2016['NOMBRE DE LA ESCUELA'].isnull()]['CLAVE DE LA ESCUELA'].unique()\n",
    "print(nulos)\n",
    "\n",
    "# Asignar nombres de escuela a los nombres nulos de las claves encontradas\n",
    "# '15ETK0003O' -> 'TELEBACHILLERATO COMUNITARIO NUM. 03 CALLE REAL TEMOAYA'\n",
    "datos2016.loc[datos2016['CLAVE DE LA ESCUELA'] == '15ETK0003O', 'NOMBRE DE LA ESCUELA'] = 'TELEBACHILLERATO COMUNITARIO NUM. 03 CALLE REAL TEMOAYA'\n",
    "# '15ETK0004N' -> 'TELEBACHILLERATO COMUNITARIO NUM. 04 BODO JIQUIPILCO'\n",
    "datos2016.loc[datos2016['CLAVE DE LA ESCUELA'] == '15ETK0004N', 'NOMBRE DE LA ESCUELA'] = 'TELEBACHILLERATO COMUNITARIO NUM. 04 BODO JIQUIPILCO'\n",
    "# '15ETK0007K' -> 'TELEBACHILLERATO COMUNITARIO NUM. 07 TIACAQUE JOCOTITLAN'\n",
    "datos2016.loc[datos2016['CLAVE DE LA ESCUELA'] == '15ETK0007K', 'NOMBRE DE LA ESCUELA'] = 'TELEBACHILLERATO COMUNITARIO NUM. 07 TIACAQUE JOCOTITLAN'\n",
    "# '15ETK0008J' -> 'TELEBACHILLERATO COMUNITARIO NUM. 08 HUEREJE IXTLAHUCA'\n",
    "datos2016.loc[datos2016['CLAVE DE LA ESCUELA'] == '15ETK0008J', 'NOMBRE DE LA ESCUELA'] = 'TELEBACHILLERATO COMUNITARIO NUM. 08 HUEREJE IXTLAHUCA'\n",
    "# '15ETK0009I' -> 'TELEBACHILLERATO COMUNITARIO NUM. 09 CUENDO ATLACOMULCO'\n",
    "datos2016.loc[datos2016['CLAVE DE LA ESCUELA'] == '15ETK0009I', 'NOMBRE DE LA ESCUELA'] = 'TELEBACHILLERATO COMUNITARIO NUM. 09 CUENDO ATLACOMULCO'\n",
    "# '15ETK0010Y' -> 'TELEBACHILLERATO COMUNITARIO NUM. 10 SAN FRANCISCO CHALCHIHUAPAN ATLACOMULCO'\n",
    "datos2016.loc[datos2016['CLAVE DE LA ESCUELA'] == '15ETK0010Y', 'NOMBRE DE LA ESCUELA'] = 'TELEBACHILLERATO COMUNITARIO NUM. 10 SAN FRANCISCO CHALCHIHUAPAN ATLACOMULCO'\n",
    "# '20DCT0013Z' -> 'CENTRO DE BACHILLERATO TECNOLÓGICO INDUSTRIAL Y DE SERVICIOS NUM. 205'\n",
    "datos2016.loc[datos2016['CLAVE DE LA ESCUELA'] == '20DCT0013Z', 'NOMBRE DE LA ESCUELA'] = 'CENTRO DE BACHILLERATO TECNOLÓGICO INDUSTRIAL Y DE SERVICIOS NUM. 205'\n",
    "\n",
    "datos2016.to_excel('./datosModificados/datos2016.xlsx', index=False)"
   ]
  },
  {
   "cell_type": "code",
   "execution_count": 12,
   "metadata": {},
   "outputs": [
    {
     "name": "stdout",
     "output_type": "stream",
     "text": [
      "[]\n"
     ]
    }
   ],
   "source": [
    "# Obtener las claves de las escuela que tienen nombre de escuela nulo\n",
    "datos2016['CLAVE DE LA ESCUELA'] = datos2016['CLAVE DE LA ESCUELA'].astype(str)\n",
    "nulos = datos2016[datos2016['NOMBRE DE LA ESCUELA'].isnull()]['CLAVE DE LA ESCUELA'].unique()\n",
    "print(nulos)"
   ]
  },
  {
   "cell_type": "code",
   "execution_count": 13,
   "metadata": {},
   "outputs": [],
   "source": [
    "# Agregar la columna 'CANTIDAD ALUMNOS EN LENGUAJE Y COMUNICACIÓN NIVEL I', utilizando la columna 'ALUMNOS QUE CONTESTARON TODAS LAS SESIONES DEL EXAMEN LENGUAJE Y COMUNICACIÓN' y la columna '% DE ALUMNOS LENGUAJE Y COMUNICACIÓN NIVEL I'\n",
    "datos2016['CANTIDAD ALUMNOS EN LENGUAJE Y COMUNICACIÓN NIVEL I'] =((datos2016['ALUMNOS EVALUADOS LENGUAJE Y COMUNICACIÓN'] * datos2016['% ALUMNOS EN LENGUAJE Y COMUNICACIÓN NIVEL I']) / 100).astype(int)\n",
    "datos2016['CANTIDAD ALUMNOS EN LENGUAJE Y COMUNICACIÓN NIVEL II'] = ((datos2016['ALUMNOS EVALUADOS LENGUAJE Y COMUNICACIÓN'] * datos2016['% ALUMNOS EN LENGUAJE Y COMUNICACIÓN NIVEL II']) / 100).astype(int)\n",
    "datos2016['CANTIDAD ALUMNOS EN LENGUAJE Y COMUNICACIÓN NIVEL III'] = ((datos2016['ALUMNOS EVALUADOS LENGUAJE Y COMUNICACIÓN'] * datos2016['% ALUMNOS EN LENGUAJE Y COMUNICACIÓN NIVEL III']) / 100).astype(int)\n",
    "datos2016['CANTIDAD ALUMNOS EN LENGUAJE Y COMUNICACIÓN NIVEL IV'] = ((datos2016['ALUMNOS EVALUADOS LENGUAJE Y COMUNICACIÓN'] * datos2016['% ALUMNOS EN LENGUAJE Y COMUNICACIÓN NIVEL IV']) / 100).astype(int)\n",
    "\n",
    "# Agregar la columna 'CANTIDAD ALUMNOS EN MATEMÁTICAS NIVEL I', utilizando la columna 'ALUMNOS QUE CONTESTARON TODAS LAS SESIONES DEL EXAMEN MATEMÁTICAS' y la columna '% ALUMNOS MATEMÁTICAS NIVEL I'\n",
    "datos2016['CANTIDAD ALUMNOS EN MATEMÁTICAS NIVEL I'] = ((datos2016['ALUMNOS EVALUADOS MATEMÁTICAS'] * datos2016['% ALUMNOS EN MATEMÁTICAS NIVEL I']) / 100).astype(int)\n",
    "datos2016['CANTIDAD ALUMNOS EN MATEMÁTICAS NIVEL II'] = ((datos2016['ALUMNOS EVALUADOS MATEMÁTICAS'] * datos2016['% ALUMNOS EN MATEMÁTICAS NIVEL II']) / 100).astype(int)\n",
    "datos2016['CANTIDAD ALUMNOS EN MATEMÁTICAS NIVEL III'] = ((datos2016['ALUMNOS EVALUADOS MATEMÁTICAS'] * datos2016['% ALUMNOS EN MATEMÁTICAS NIVEL III']) / 100).astype(int)\n",
    "datos2016['CANTIDAD ALUMNOS EN MATEMÁTICAS NIVEL IV'] = ((datos2016['ALUMNOS EVALUADOS MATEMÁTICAS'] * datos2016['% ALUMNOS EN MATEMÁTICAS NIVEL IV']) / 100).astype(int)\n",
    "\n",
    "datos2016.to_excel('./datosModificados/datos2016.xlsx', index=False)"
   ]
  },
  {
   "cell_type": "code",
   "execution_count": 14,
   "metadata": {},
   "outputs": [],
   "source": [
    "# Agregar columna 'ALUMNOS EVALUADOS' \n",
    "#datos2016['ALUMNOS EVALUADOS'] = datos2016['ALUMNOS QUE CONTESTARON TODAS LAS SESIONES DEL EXAMEN LENGUAJE Y COMUNICACIÓN'] + datos2016['ALUMNOS QUE CONTESTARON TODAS LAS SESIONES DEL EXAMEN MATEMÁTICAS']"
   ]
  },
  {
   "cell_type": "code",
   "execution_count": 15,
   "metadata": {},
   "outputs": [
    {
     "name": "stdout",
     "output_type": "stream",
     "text": [
      "Columnas con valores nulos:\n",
      "\n",
      "Columnas con NaN:\n",
      "\n",
      "Filas con valores nulos:\n",
      "\n",
      "Filas con NaN:\n"
     ]
    }
   ],
   "source": [
    "# Imprimir el nombre de las columnas que tienen valores nulos\n",
    "print(\"Columnas con valores nulos:\")\n",
    "for col in datos2016.columns:\n",
    "    if datos2016[col].isnull().any():\n",
    "        print(col)\n",
    "\n",
    "# Imprimir el nombre de las columnas con NaN\n",
    "print(\"\\nColumnas con NaN:\")\n",
    "for col in datos2016.columns:\n",
    "    if datos2016[col].isnull().any():\n",
    "        print(col)\n",
    "\n",
    "# Imprimir el numero de la fila donde hay valores nulos\n",
    "print(\"\\nFilas con valores nulos:\")\n",
    "for index, row in datos2016.iterrows():\n",
    "    if row.isnull().any():\n",
    "        print(f\"Fila {index}: {row[row.isnull()].index.tolist()}\")\n",
    "\n",
    "# Imprimir el numero de la fila donde hay NaN\n",
    "print(\"\\nFilas con NaN:\")\n",
    "for index, row in datos2016.iterrows():\n",
    "    if row.isnull().any():\n",
    "        print(f\"Fila {index}: {row[row.isnull()].index.tolist()}\")"
   ]
  },
  {
   "cell_type": "code",
   "execution_count": 16,
   "metadata": {},
   "outputs": [],
   "source": [
    "#Acomodar con el metodo reindex\n",
    "datos2016 = datos2016.reindex([\n",
    "    'CLAVE DE LA ENTIDAD', 'ENTIDAD', 'CLAVE DE LA ESCUELA', 'NOMBRE DE LA ESCUELA', \n",
    "    'TURNO', 'EXTENSIÓN', 'NOMBRE DEL MUNICIPIO', 'NOMBRE DE LA LOCALIDAD', \n",
    "    'SUBSISTEMA', 'GRADO DE MARGINACIÓN DE LA LOCALIDAD DONDE SE UBICA EL CCT', \n",
    "    'SOSTENIMIENTO', 'ALUMNOS PROGRAMADOS', 'ALUMNOS EVALUADOS',\n",
    "    '% ALUMNOS EN LENGUAJE Y COMUNICACIÓN NIVEL I', '% ALUMNOS EN LENGUAJE Y COMUNICACIÓN NIVEL II', \n",
    "    '% ALUMNOS EN LENGUAJE Y COMUNICACIÓN NIVEL III', '% ALUMNOS EN LENGUAJE Y COMUNICACIÓN NIVEL IV', \n",
    "    '% ALUMNOS EN MATEMÁTICAS NIVEL I', '% ALUMNOS EN MATEMÁTICAS NIVEL II', \n",
    "    '% ALUMNOS EN MATEMÁTICAS NIVEL III', '% ALUMNOS EN MATEMÁTICAS NIVEL IV',\n",
    "    'CANTIDAD ALUMNOS EN LENGUAJE Y COMUNICACIÓN NIVEL I',\n",
    "    'CANTIDAD ALUMNOS EN LENGUAJE Y COMUNICACIÓN NIVEL II','CANTIDAD ALUMNOS EN LENGUAJE Y COMUNICACIÓN NIVEL III',\n",
    "    'CANTIDAD ALUMNOS EN LENGUAJE Y COMUNICACIÓN NIVEL IV',\n",
    "    'CANTIDAD ALUMNOS EN MATEMÁTICAS NIVEL I','CANTIDAD ALUMNOS EN MATEMÁTICAS NIVEL II',\n",
    "    'CANTIDAD ALUMNOS EN MATEMÁTICAS NIVEL III',\n",
    "    'CANTIDAD ALUMNOS EN MATEMÁTICAS NIVEL IV'\n",
    "], axis=1)\n",
    "datos2016.to_excel('./datosModificados/datos2016.xlsx', index=False)"
   ]
  },
  {
   "cell_type": "code",
   "execution_count": 17,
   "metadata": {},
   "outputs": [
    {
     "data": {
      "text/plain": [
       "CLAVE DE LA ENTIDAD                                           float64\n",
       "ENTIDAD                                                        object\n",
       "CLAVE DE LA ESCUELA                                            object\n",
       "NOMBRE DE LA ESCUELA                                           object\n",
       "TURNO                                                          object\n",
       "EXTENSIÓN                                                      object\n",
       "NOMBRE DEL MUNICIPIO                                           object\n",
       "NOMBRE DE LA LOCALIDAD                                         object\n",
       "SUBSISTEMA                                                     object\n",
       "GRADO DE MARGINACIÓN DE LA LOCALIDAD DONDE SE UBICA EL CCT     object\n",
       "SOSTENIMIENTO                                                  object\n",
       "ALUMNOS PROGRAMADOS                                             int64\n",
       "ALUMNOS EVALUADOS                                              object\n",
       "% ALUMNOS EN LENGUAJE Y COMUNICACIÓN NIVEL I                  float64\n",
       "% ALUMNOS EN LENGUAJE Y COMUNICACIÓN NIVEL II                 float64\n",
       "% ALUMNOS EN LENGUAJE Y COMUNICACIÓN NIVEL III                float64\n",
       "% ALUMNOS EN LENGUAJE Y COMUNICACIÓN NIVEL IV                 float64\n",
       "% ALUMNOS EN MATEMÁTICAS NIVEL I                              float64\n",
       "% ALUMNOS EN MATEMÁTICAS NIVEL II                             float64\n",
       "% ALUMNOS EN MATEMÁTICAS NIVEL III                            float64\n",
       "% ALUMNOS EN MATEMÁTICAS NIVEL IV                             float64\n",
       "CANTIDAD ALUMNOS EN LENGUAJE Y COMUNICACIÓN NIVEL I             int64\n",
       "CANTIDAD ALUMNOS EN LENGUAJE Y COMUNICACIÓN NIVEL II            int64\n",
       "CANTIDAD ALUMNOS EN LENGUAJE Y COMUNICACIÓN NIVEL III           int64\n",
       "CANTIDAD ALUMNOS EN LENGUAJE Y COMUNICACIÓN NIVEL IV            int64\n",
       "CANTIDAD ALUMNOS EN MATEMÁTICAS NIVEL I                         int64\n",
       "CANTIDAD ALUMNOS EN MATEMÁTICAS NIVEL II                        int64\n",
       "CANTIDAD ALUMNOS EN MATEMÁTICAS NIVEL III                       int64\n",
       "CANTIDAD ALUMNOS EN MATEMÁTICAS NIVEL IV                        int64\n",
       "dtype: object"
      ]
     },
     "execution_count": 17,
     "metadata": {},
     "output_type": "execute_result"
    }
   ],
   "source": [
    "datos2016.dtypes"
   ]
  },
  {
   "cell_type": "code",
   "execution_count": 18,
   "metadata": {},
   "outputs": [],
   "source": [
    "import pandas as pd\n",
    "# Leer el archivo Excel modificado\n",
    "datos2016 = pd.read_excel('./datosModificados/datos2016.xlsx')\n",
    "# Añadir la columna 'AÑO' con el valor 2016\n",
    "datos2016['AÑO'] = 2016\n",
    "datos2016.to_excel('./datosModificados/datos2016.xlsx', index=False)"
   ]
  }
 ],
 "metadata": {
  "kernelspec": {
   "display_name": "Python 3",
   "language": "python",
   "name": "python3"
  },
  "language_info": {
   "codemirror_mode": {
    "name": "ipython",
    "version": 3
   },
   "file_extension": ".py",
   "mimetype": "text/x-python",
   "name": "python",
   "nbconvert_exporter": "python",
   "pygments_lexer": "ipython3",
   "version": "3.13.1"
  }
 },
 "nbformat": 4,
 "nbformat_minor": 2
}
