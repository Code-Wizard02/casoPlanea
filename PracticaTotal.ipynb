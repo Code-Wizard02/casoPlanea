{
 "cells": [
  {
   "cell_type": "code",
   "execution_count": 4,
   "metadata": {},
   "outputs": [],
   "source": [
    "import pandas as pd\n",
    "import numpy as np\n",
    "\n",
    "datos2015=pd.read_excel('./datosModificados/datos2015.xlsx')\n",
    "datos2016=pd.read_excel('./datosModificados/datos2016.xlsx')\n",
    "datos2017=pd.read_excel('./datosModificados/datos2017.xlsx')"
   ]
  },
  {
   "cell_type": "code",
   "execution_count": 5,
   "metadata": {},
   "outputs": [
    {
     "name": "stdout",
     "output_type": "stream",
     "text": [
      "\n",
      "Cantidad de columnas\n",
      "Datos 2015:  30\n",
      "Datos 2016:  30\n",
      "Datos 2017:  30\n",
      "\n",
      "Nombres de columnas\n",
      "Datos 2015:  ['CLAVE DE LA ENTIDAD', 'ENTIDAD', 'CLAVE DE LA ESCUELA', 'NOMBRE DE LA ESCUELA', 'TURNO', 'EXTENSIÓN', 'NOMBRE DEL MUNICIPIO', 'NOMBRE DE LA LOCALIDAD', 'SUBSISTEMA', 'GRADO DE MARGINACIÓN DE LA LOCALIDAD DONDE SE UBICA EL CCT', 'SOSTENIMIENTO', 'ALUMNOS PROGRAMADOS', 'ALUMNOS EVALUADOS', '% ALUMNOS EN LENGUAJE Y COMUNICACIÓN NIVEL I', '% ALUMNOS EN LENGUAJE Y COMUNICACIÓN NIVEL II', '% ALUMNOS EN LENGUAJE Y COMUNICACIÓN NIVEL III', '% ALUMNOS EN LENGUAJE Y COMUNICACIÓN NIVEL IV', '% ALUMNOS EN MATEMÁTICAS NIVEL I', '% ALUMNOS EN MATEMÁTICAS NIVEL II', '% ALUMNOS EN MATEMÁTICAS NIVEL III', '% ALUMNOS EN MATEMÁTICAS NIVEL IV', 'CANTIDAD ALUMNOS EN LENGUAJE Y COMUNICACIÓN NIVEL I', 'CANTIDAD ALUMNOS EN LENGUAJE Y COMUNICACIÓN NIVEL II', 'CANTIDAD ALUMNOS EN LENGUAJE Y COMUNICACIÓN NIVEL III', 'CANTIDAD ALUMNOS EN LENGUAJE Y COMUNICACIÓN NIVEL IV', 'CANTIDAD ALUMNOS EN MATEMÁTICAS NIVEL I', 'CANTIDAD ALUMNOS EN MATEMÁTICAS NIVEL II', 'CANTIDAD ALUMNOS EN MATEMÁTICAS NIVEL III', 'CANTIDAD ALUMNOS EN MATEMÁTICAS NIVEL IV', 'AÑO']\n",
      "Datos 2016:  ['CLAVE DE LA ENTIDAD', 'ENTIDAD', 'CLAVE DE LA ESCUELA', 'NOMBRE DE LA ESCUELA', 'TURNO', 'EXTENSIÓN', 'NOMBRE DEL MUNICIPIO', 'NOMBRE DE LA LOCALIDAD', 'SUBSISTEMA', 'GRADO DE MARGINACIÓN DE LA LOCALIDAD DONDE SE UBICA EL CCT', 'SOSTENIMIENTO', 'ALUMNOS PROGRAMADOS', 'ALUMNOS EVALUADOS', '% ALUMNOS EN LENGUAJE Y COMUNICACIÓN NIVEL I', '% ALUMNOS EN LENGUAJE Y COMUNICACIÓN NIVEL II', '% ALUMNOS EN LENGUAJE Y COMUNICACIÓN NIVEL III', '% ALUMNOS EN LENGUAJE Y COMUNICACIÓN NIVEL IV', '% ALUMNOS EN MATEMÁTICAS NIVEL I', '% ALUMNOS EN MATEMÁTICAS NIVEL II', '% ALUMNOS EN MATEMÁTICAS NIVEL III', '% ALUMNOS EN MATEMÁTICAS NIVEL IV', 'CANTIDAD ALUMNOS EN LENGUAJE Y COMUNICACIÓN NIVEL I', 'CANTIDAD ALUMNOS EN LENGUAJE Y COMUNICACIÓN NIVEL II', 'CANTIDAD ALUMNOS EN LENGUAJE Y COMUNICACIÓN NIVEL III', 'CANTIDAD ALUMNOS EN LENGUAJE Y COMUNICACIÓN NIVEL IV', 'CANTIDAD ALUMNOS EN MATEMÁTICAS NIVEL I', 'CANTIDAD ALUMNOS EN MATEMÁTICAS NIVEL II', 'CANTIDAD ALUMNOS EN MATEMÁTICAS NIVEL III', 'CANTIDAD ALUMNOS EN MATEMÁTICAS NIVEL IV', 'AÑO']\n",
      "Datos 2017:  ['CLAVE DE LA ENTIDAD', 'ENTIDAD', 'CLAVE DE LA ESCUELA', 'NOMBRE DE LA ESCUELA', 'TURNO', 'EXTENSIÓN', 'NOMBRE DEL MUNICIPIO', 'NOMBRE DE LA LOCALIDAD', 'SUBSISTEMA', 'GRADO DE MARGINACIÓN DE LA LOCALIDAD DONDE SE UBICA EL CCT', 'SOSTENIMIENTO', 'ALUMNOS PROGRAMADOS', 'ALUMNOS EVALUADOS', '% ALUMNOS EN LENGUAJE Y COMUNICACIÓN NIVEL I', '% ALUMNOS EN LENGUAJE Y COMUNICACIÓN NIVEL II', '% ALUMNOS EN LENGUAJE Y COMUNICACIÓN NIVEL III', '% ALUMNOS EN LENGUAJE Y COMUNICACIÓN NIVEL IV', '% ALUMNOS EN MATEMÁTICAS NIVEL I', '% ALUMNOS EN MATEMÁTICAS NIVEL II', '% ALUMNOS EN MATEMÁTICAS NIVEL III', '% ALUMNOS EN MATEMÁTICAS NIVEL IV', 'CANTIDAD ALUMNOS EN LENGUAJE Y COMUNICACIÓN NIVEL I', 'CANTIDAD ALUMNOS EN LENGUAJE Y COMUNICACIÓN NIVEL II', 'CANTIDAD ALUMNOS EN LENGUAJE Y COMUNICACIÓN NIVEL III', 'CANTIDAD ALUMNOS EN LENGUAJE Y COMUNICACIÓN NIVEL IV', 'CANTIDAD ALUMNOS EN MATEMÁTICAS NIVEL I', 'CANTIDAD ALUMNOS EN MATEMÁTICAS NIVEL II', 'CANTIDAD ALUMNOS EN MATEMÁTICAS NIVEL III', 'CANTIDAD ALUMNOS EN MATEMÁTICAS NIVEL IV', 'AÑO']\n"
     ]
    }
   ],
   "source": [
    "# Comparar la cantidad del las columnas de los 3 archivos\n",
    "print(\"\\nCantidad de columnas\")\n",
    "print(\"Datos 2015: \", len(datos2015.columns))\n",
    "print(\"Datos 2016: \", len(datos2016.columns))\n",
    "print(\"Datos 2017: \", len(datos2017.columns))\n",
    "\n",
    "# Comparar los nombres de las columnas de los 3 archivos y determinar si son iguales\n",
    "print(\"\\nNombres de columnas\")\n",
    "print(\"Datos 2015: \", datos2015.columns.values.tolist())\n",
    "print(\"Datos 2016: \", datos2016.columns.values.tolist())\n",
    "print(\"Datos 2017: \", datos2017.columns.values.tolist())"
   ]
  },
  {
   "cell_type": "code",
   "execution_count": 6,
   "metadata": {},
   "outputs": [
    {
     "name": "stdout",
     "output_type": "stream",
     "text": [
      "\n",
      "Cantidad de columnas de datosTotal:  30\n"
     ]
    }
   ],
   "source": [
    "# Unir los 3 dataframes\n",
    "datosTotal = pd.concat([datos2015, datos2016, datos2017])\n",
    "\n",
    "# Truncar la cantidad de columnas a 30\n",
    "datosTotal = datosTotal.iloc[:, :30]\n",
    "datosTotal.to_excel('./datosModificados/datosTotal.xlsx', index=False)\n",
    "\n",
    "print(\"\\nCantidad de columnas de datosTotal: \", len(datosTotal.columns))"
   ]
  }
 ],
 "metadata": {
  "kernelspec": {
   "display_name": "Python 3",
   "language": "python",
   "name": "python3"
  },
  "language_info": {
   "codemirror_mode": {
    "name": "ipython",
    "version": 3
   },
   "file_extension": ".py",
   "mimetype": "text/x-python",
   "name": "python",
   "nbconvert_exporter": "python",
   "pygments_lexer": "ipython3",
   "version": "3.13.1"
  }
 },
 "nbformat": 4,
 "nbformat_minor": 2
}
