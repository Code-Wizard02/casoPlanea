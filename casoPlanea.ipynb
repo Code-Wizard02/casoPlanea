{
 "cells": [
  {
   "cell_type": "markdown",
   "metadata": {},
   "source": [
    "# UNIFICACIÓN DEL LOS DATASETS"
   ]
  },
  {
   "cell_type": "code",
   "execution_count": null,
   "metadata": {},
   "outputs": [],
   "source": [
    "# CREAR ARCHIVOS UNIFICADOS DE PLANEACIÓN\n",
    "import pandas as pd\n",
    "import numpy as np\n",
    "import warnings\n",
    "\n",
    "path2015 = 'planea/2015/2015_PEMS_Escuelas_'\n",
    "path2016 = 'planea/2016/2016_PEMS_Escuelas_'\n",
    "path2017 = 'planea/2017/2017_PEMS_Escuelas_'\n",
    "\n",
    "entidades = ['01', '02', '03', '04', '05', '06', '07', '08', '09', '10', '11', '12', '13', '14', '15', '16', '17', '18', '19', '20', '21', '22', '23', '24', '25', '26', '27', '28', '29', '30', '31', '32']\n",
    "\n",
    "\n",
    "archivos2015 = []\n",
    "for entidad in entidades:\n",
    "    archivos2015.append(f'{path2015}{entidad}.xlsx')\n",
    "\n",
    "archivos2016 = []\n",
    "for entidad in entidades:\n",
    "    archivos2016.append(f'{path2016}{entidad}.xlsx')\n",
    "\n",
    "archivos2017 = []\n",
    "for entidad in entidades:\n",
    "    archivos2017.append(f'{path2017}{entidad}.xlsx')\n",
    "\n",
    "dfs2015 = [pd.read_excel(archivo) for archivo in archivos2015]\n",
    "datos2015 = pd.concat(dfs2015)\n",
    "datos2015.to_excel('./datosUnificados/datos2015.xlsx', index=False)\n",
    "\n",
    "dfs2016 = [pd.read_excel(archivo) for archivo in archivos2016]\n",
    "datos2016 = pd.concat(dfs2016)\n",
    "datos2016.to_excel('./datosUnificados/datos2016.xlsx', index=False)\n",
    "\n",
    "dfs2017 = [pd.read_excel(archivo) for archivo in archivos2017]\n",
    "datos2017 = pd.concat(dfs2017)\n",
    "datos2017.to_excel('./datosUnificados/datos2017.xlsx', index=False)\n"
   ]
  },
  {
   "cell_type": "markdown",
   "metadata": {},
   "source": [
    "# LECTURA DE DATASETS UNIFICADOS"
   ]
  },
  {
   "cell_type": "code",
   "execution_count": null,
   "metadata": {},
   "outputs": [],
   "source": [
    "#LEER ARCHIVOS UNIFICADOS DE PLANEACIÓN\n",
    "import pandas as pd\n",
    "import numpy as np\n",
    "import warnings\n",
    "\n",
    "#Leer datasets unificados\n",
    "datos2015= pd.read_excel('./datosUnificados/datos2015.xlsx')\n",
    "datos2016= pd.read_excel('./datosUnificados/datos2016.xlsx')\n",
    "datos2017= pd.read_excel('./datosUnificados/datos2017.xlsx')\n",
    "\n",
    "# Exploración de datos\n",
    "# print(f'Número de filas y columnas: {datos2015.shape}')\n",
    "# print(f'Columnas: {datos2015.columns}')\n",
    "# print(f'Tipos de datos:\\n{datos2015.dtypes}')\n",
    "# print(f'Información del DataFrame:\\n{datos2015.info()}')\n",
    "# print(f'Estadísticas descriptivas:\\n{datos2015.describe()}')\n",
    "# print(f'Primeras 10 filas:\\n{datos2015.head(10)}')\n",
    "# print(f'Últimas 5 filas:\\n{datos2015.tail()}')\n",
    "\n",
    "\n",
    "#Mostrar valores no nulos en la columna Extension\n",
    "#datos2015['NOMBRE DE LA LOCALIDAD'].fillna(datos2015['NOMBRE DEL MUNICIPIO'], inplace=True)\n",
    "# datos2016['nombreLocalidad'].fillna(datos2016['nombreMuniciopio'], inplace=True)\n",
    "# datos2017['nombreLocalidad'].fillna(datos2017['nombreMuniciopio'], inplace=True)\n"
   ]
  },
  {
   "cell_type": "markdown",
   "metadata": {},
   "source": [
    "#### CAMBIAR EL NOMBRE DE LAS COLUMNAS"
   ]
  },
  {
   "cell_type": "code",
   "execution_count": null,
   "metadata": {},
   "outputs": [],
   "source": [
    "#Cambiar el nombre de las columnas\n",
    "datos2015.rename(columns={'CLAVE DE LA ENTIDAD' : 'CLAVEENTIDAD', 'NOMBRE DE LA ESCUELA': 'NOMBREESCUELA', 'CLAVE DE LA ESCUELA' : 'CLAVEESCUELA', 'NOMBRE DEL MUNICIPIO': 'NOMMUNICIPIO', 'NOMBRE DE LA LOCALIDAD': 'NOMLOCALIDAD', 'GRADO DE MARGINACIÓN DE LA LOCALIDAD DONDE SE UBICA EL CCT': 'GRADOMARGINACION', \"ALUMNOS PROGRAMADOS PARA SER EVALUADOS\":\"ALUMNOSPROGRAMADOS\",\"ALUMNOS EVALUADOS\":\"ALUMNOSEV\",\" % DE ALUMNOS EVALUADOS EN LA ESCUELA EN EL 2015\":\"%ALUMNOSEV2015\",\"ALUMNOS EVALUADOS MENOR AL 80%\":\"ALUMNOSEVMENOR80\",\"ALUMNOS QUE CONTESTARON 50% O MÁS PREGUNTAS DE LENGUAJE Y COMUNICACIÓN\":\"ALUMNOSCONTESTARON50OMASDELYC\",\"ALUMNOS QUE CONTESTARON 50% O MÁS PREGUNTAS DE MATEMÁTICAS\":\"ALUMNOSCONTESTARON50OMASDEMATE\",\"% DE ALUMNOS DE LA ESCUELA EN CADA NIVEL DE DESEMPEÑO EN LENGUAJE Y COMUNICACIÓN 2015\":\"ALUMNOSLYCNIVEL1\",\"% DE ALUMNOS DE LA MISMA ENTIDAD, SUBSISTEMA Y GRADO DE MARGINACIÓN EN CADA NIVEL DE DESEMPEÑO EN LENGUAJE Y COMUNICACIÓN 2015\":\"ALUMNOSMISMAENTIDADSUBSISTEMAYGRADODELYCNVL1\",\"% DE ALUMNOS DEL PAÍS DEL MISMO SUBSISTEMA Y GRADO DE MARGINACIÓN EN CADA NIVEL DE DESEMPEÑO EN LENGUAJE Y COMUNICACIÓN 2015\":\"ALUMNOSMISMOSUBYGRADODELYCNVL1\",\"% DE ALUMNOS DE LA ESCUELA EN CADA NIVEL DE DESEMPEÑO EN MATEMÁTICAS 2015\":\"ALUMNOSENMATENVL1\",\"% DE ALUMNOS DE LA MISMA ENTIDAD, SUBSISTEMA Y GRADO DE MARGINACIÓN EN CADA NIVEL DE DESEMPEÑO EN MATEMÁTICAS 2015\":\"ALUMNOSMISMAENTIDADSUBSISTEMAYGRADODEMATENVL1\",\"% DE ALUMNOS DEL PAÍS DEL MISMO SUBSISTEMA Y GRADO DE MARGINACIÓN EN CADA NIVEL DE DESEMPEÑO EN MATEMÁTICAS 2015\":\"ALUMNOSMISMOSUBSISTEMAYGRADODEMATENVL1\",\"Unnamed: 18\":\"ALUMNOSLYCNIVEL2\", \"Unnamed: 19\": \"ALUMNOSLYCNIVEL3\",\"Unnamed: 20\":\"ALUMNOSLYCNIVEL4\",\"Unnamed: 22\":\"ALUMNOSMISMAENTIDADSUBSISTEMAYGRADODELYCNVL2\",\"Unnamed: 23\":\"ALUMNOSMISMAENTIDADSUBSISTEMAYGRADODELYCNVL3\",\"Unnamed: 24\":\"ALUMNOSMISMAENTIDADSUBSISTEMAYGRADODELYCNVL4\",\"Unnamed: 26\":\"ALUMNOSMISMOSUBYGRADODELYCNVL2\",\"Unnamed: 27\":\"ALUMNOSMISMOSUBYGRADODELYCNVL3\",\"Unnamed: 28\":\"ALUMNOSMISMOSUBYGRADODELYCNVL4\",\"Unnamed: 30\":\"ALUMNOSENMATENVL2\",\"Unnamed: 31\":\"ALUMNOSENMATENVL3\",\"Unnamed: 32\":\"ALUMNOSENMATENVL4\",\"Unnamed: 34\":\"ALUMNOSMISMAENTIDADSUBSISTEMAYGRADODEMATENVL2\",\"Unnamed: 35\":\"ALUMNOSMISMAENTIDADSUBSISTEMAYGRADODEMATENVL3\",\"Unnamed: 36\":\"ALUMNOSMISMAENTIDADSUBSISTEMAYGRADODEMATENVL4\",\"Unnamed: 38\":\"ALUMNOSMISMOSUBSISTEMAYGRADODEMATENVL2\",\"Unnamed: 39\":\"ALUMNOSMISMOSUBSISTEMAYGRADODEMATENVL3\",\"Unnamed: 40\":\"ALUMNOSMISMOSUBSISTEMAYGRADODEMATENVL4\"}, inplace=True)\n",
    "datos2016.rename(columns={'CLAVE DE LA ENTIDAD' : 'CLAVEENTIDAD', 'NOMBRE DE LA ESCUELA': 'NOMBREESCUELA', 'CLAVE DE LA ESCUELA' : 'CLAVEESCUELA', 'NOMBRE DEL MUNICIPIO': 'NOMMUNICIPIO', 'NOMBRE DE LA LOCALIDAD': 'NOMLOCALIDAD', 'GRADO DE MARGINACIÓN DE LA LOCALIDAD DONDE SE UBICA EL CCT': 'GRADOMARGINACION', \"ALUMNOS PROGRAMADOS\":\"ALUMNOSPROGRAMADOS\",\"RESULTADO REPRESENTATIVO DE LA ESCUELA\":\"RESULTADOREPRESENTATIVOLYC\",\"Unnamed: 13\":\"RESULTADOREPRESENTATIVOMATEMATICAS\",\"ALUMNOS QUE CONTESTARON TODAS LAS SESIONES DEL EXAMEN\":\"ALUMNOSCONTESTARONTODASSESIONESLYC\",\"Unnamed: 15\": \"ALUMNOSCONTESTARONTODASSESIONESMATEMATICAS\",\"% DE ALUMNOS DE LA ESCUELA EN CADA NIVEL DE LOGRO EN LENGUAJE Y COMUNICACIÓN 2016\":\"ALUMNOSENLYCNVL1\",\"Unnamed: 17\":\"ALUMNOSENLYCNVL2\", \"Unnamed: 18\":\"ALUMNOSENLYCNVL3\",\"Unnamed: 19\":\"ALUMNOSENLYCNVL4\",\"% DE ALUMNOS DE LA MISMA ENTIDAD, SUBSISTEMA Y GRADO DE MARGINACIÓN EN CADA NIVEL DE LOGRO EN LENGUAJE Y COMUNICACIÓN 2016\":\"ALUMNOSDELAMISMAENTIDADSUBSISTEMAYGRADOENLYCNVL1\",\"Unnamed: 21\":\"ALUMNOSDELAMISMAENTIDADSUBSISTEMAYGRADOENLYCNVL2\",\"Unnamed: 22\":\"ALUMNOSDELAMISMAENTIDADSUBSISTEMAYGRADOENLYCNVL3\",\"Unnamed: 23\":\"ALUMNOSDELAMISMAENTIDADSUBSISTEMAYGRADOENLYCNVL4\",\"% DE ALUMNOS DEL PAÍS DEL MISMO SUBSISTEMA Y GRADO DE MARGINACIÓN EN CADA NIVEL DE LOGRO EN LENGUAJE Y COMUNICACIÓN 2016\":\"ALUMNOSMISMOSUBSISTEMAYGRADOENLYCNVL1\",\"Unnamed: 25\":\"ALUMNOSMISMOSUBSISTEMAYGRADOENLYCNVL2\",\"Unnamed: 26\":\"ALUMNOSMISMOSUBSISTEMAYGRADOENLYCNVL3\",\"Unnamed: 27\":\"ALUMNOSMISMOSUBSISTEMAYGRADOENLYCNVL4\",\"% DE ALUMNOS DE LA ESCUELA EN CADA NIVEL DE LOGRO EN MATEMÁTICAS 2016\":\"ALUMNOSDEMATENVL1\",\"Unnamed: 29\":\"ALUMNOSDEMATENVL2\",\"Unnamed: 30\":\"ALUMNOSDEMATENVL3\",\"Unnamed: 31\":\"ALUMNOSDEMATENVL4\",\"% DE ALUMNOS DE LA MISMA ENTIDAD, SUBSISTEMA Y GRADO DE MARGINACIÓN EN CADA NIVEL DE LOGRO EN MATEMÁTICAS 2016\":\"ALUMNOSMISMAENTIDADSUBSISTEMAGRADOENMATEMATICASNVL1\",\"Unnamed: 33\":\"ALUMNOSMISMAENTIDADSUBSISTEMAGRADOENMATEMATICASNVL2\",\"Unnamed: 34\":\"ALUMNOSMISMAENTIDADSUBSISTEMAGRADOENMATEMATICASNVL3\",\"Unnamed: 35\":\"ALUMNOSMISMAENTIDADSUBSISTEMAGRADOENMATEMATICASNVL4\",\"% DE ALUMNOS DEL PAÍS DEL MISMO SUBSISTEMA Y GRADO DE MARGINACIÓN EN CADA NIVEL DE LOGRO EN MATEMÁTICAS 2016\":\"ALUMNOSMISMOSUBSISTEMAYGRADOENMATENVL1\",\"Unnamed: 37\":\"ALUMNOSMISMOSUBSISTEMAYGRADOENMATENVL2\",\"Unnamed: 38\":\"ALUMNOSMISMOSUBSISTEMAYGRADOENMATENVL3\",\"Unnamed: 39\":\"ALUMNOSMISMOSUBSISTEMAYGRADOENMATENVL4\"}, inplace=True)\n",
    "datos2017.rename(columns={'CLAVE DE LA ENTIDAD' : 'CLAVEENTIDAD', 'NOMBRE DE LA ESCUELA': 'NOMBREESCUELA', 'CLAVE DE LA ESCUELA' : 'CLAVEESCUELA', 'NOMBRE DEL MUNICIPIO': 'NOMMUNICIPIO', 'NOMBRE DE LA LOCALIDAD': 'NOMLOCALIDAD', 'GRADO DE MARGINACIÓN (CONAPO) DE LA LOCALIDAD DONDE SE UBICA EL CT': 'GRADOMARGINACION',\"TOTAL DE ALUMNOS EN EL ÚLTIMO GRADO (MATRÍCULA)\":\"MATRICULAULTIMOSALUMNOS\", \"ALUMNOS PROGRAMADOS\":\"ALUMNOSPROGRAMADOS\",\"ALUMNOS EVALUADOS\":\"ALUMNOSEVALUADOSLYC\",\"Unnamed: 14\":\"ALUMNOSEVALUADOSMATE\",\"PORCENTAJE (%) DE ALUMNOS EVALUADOS\":\"ALUMNOSEVALUADOSLYC\",\"Unnamed: 16\":\"ALUMNOSEVALUADOSMATE\",\"LOS ALUMNOS EVALUADOS SON REPRESENTATIVOS DE LA TOTALIDAD DE LOS ESTUDIANTES DE LA ESCUELA?\":\"SONALUMNOSREPRESENTATIVOSDELYC\",\"Unnamed: 18\":\"SONALUMNOSREPRESENTATIVOSDEMATE\",\"ESCUELAS PARECIDAS PARA COMPARACIÓN\":\"ESCUELASPARECIDAS\",\"NIVELES DE LOGRO EN LENGUAJE Y COMUNICACIÓN\":\"CANTALUMNOSLYCNIVELDELOGRO1\",\"Unnamed: 21\":\"CANTALUMNOSLYCNIVELDELOGRO2\",\"Unnamed: 22\":\"CANTALUMNOSLYCNIVELDELOGRO3\",\"Unnamed: 23\":\"CANTALUMNOSLYCNIVELDELOGRO4\",\"Unnamed: 24\":\"PORCENTAJEALUMNOSLYCNVL1\",\"Unnamed: 25\":\"PORCENTAJEALUMNOSLYCNVL2\",\"Unnamed: 26\":\"PORCENTAJEALUMNOSLYCNVL3\",\"Unnamed: 27\":\"PORCENTAJEALUMNOSLYCNVL4\",\"Unnamed: 28\":\"PORCENTAJEALUMNOSESCUELASPARECIDASLYCNVL1\",\"Unnamed: 29\":\"PORCENTAJEALUMNOSESCUELASPARECIDASLYCNVL2\",\"Unnamed: 30\":\"PORCENTAJEALUMNOSESCUELASPARECIDASLYCNVL3\",\"Unnamed: 31\":\"PORCENTAJEALUMNOSESCUELASPARECIDASLYCNVL4\",\"Unnamed: 32\":\"PORCENTAJEALUMNOSESCUELASMEXLYCNVL1\",\"Unnamed: 33\":\"PORCENTAJEALUMNOSESCUELASMEXLYCNVL2\",\"Unnamed: 34\":\"PORCENTAJEALUMNOSESCUELASMEXLYCNVL3\",\"Unnamed: 35\":\"PORCENTAJEALUMNOSESCUELASMEXLYCNVL4\",\"NIVELES DE LOGRO EN MATEMÁTICAS\":\"CANTALUMNOSMATENVL1\",\"Unnamed: 37\":\"CANTALUMNOSMATENVL2\",\"Unnamed: 38\":\"CANTALUMNOSMATENVL3\",\"Unnamed: 39\":\"CANTALUMNOSMATENVL4\",\"Unnamed: 40\":\"PORCENTAJEALUMNOSMATENVL1\",\"Unnamed: 41\":\"PORCENTAJEALUMNOSMATENVL2\",\"Unnamed: 42\":\"PORCENTAJEALUMNOSMATENVL3\",\"Unnamed: 43\":\"PORCENTAJEALUMNOSMATENVL4\",\"Unnamed: 44\":\"PORCENTAJEALUMNOSESCUELASPARECIDASMXMATENVL1\",\"Unnamed: 45\":\"PORCENTAJEALUMNOSESCUELASPARECIDASMXMATENVL2\",\"Unnamed: 46\":\"PORCENTAJEALUMNOSESCUELASPARECIDASMXMATENVL3\",\"Unnamed: 47\":\"PORCENTAJEALUMNOSESCUELASPARECIDASMXMATENVL4\",\"Unnamed: 48\":\"PORCENTAJEALUMNOSESCUELASMXMATENVL1\",\"Unnamed: 49\":\"PORCENTAJEALUMNOSESCUELASMXMATENVL2\",\"Unnamed: 50\":\"PORCENTAJEALUMNOSESCUELASMXMATENVL3\",\"Unnamed: 51\":\"PORCENTAJEALUMNOSESCUELASMXMATENVL4\"}, inplace=True)\n",
    "\n",
    "#Mostrar el nombre de las columnas\n",
    "print(datos2015.columns)\n",
    "print(datos2016.columns)\n",
    "print(datos2017.columns)\n",
    "\n",
    "#Guardar las columnas renombradas en un nuevo archivo\n",
    "# datos2015.to_excel('./datosRenombrados/datos2015_renombrados.xlsx', index=False)\n",
    "# datos2016.to_excel('./datosRenombrados/datos2016_renombrados.xlsx', index=False)\n",
    "# datos2017.to_excel('./datosRenombrados/datos2017_renombrados.xlsx', index=False)\n"
   ]
  },
  {
   "cell_type": "markdown",
   "metadata": {},
   "source": [
    "# TRANSFORMACIÓN DE LAS COLUMNAS"
   ]
  },
  {
   "cell_type": "markdown",
   "metadata": {},
   "source": [
    "#### ELIMINAR LAS COLUMNAS QUE NO SE UTILIZARAN"
   ]
  },
  {
   "cell_type": "code",
   "execution_count": null,
   "metadata": {},
   "outputs": [],
   "source": [
    "#Eliminar columnas que no se utilizaran. 2015: (14:15,22:29,34:41)\n",
    "datos2015.drop(datos2015.columns[14:15], axis=1, inplace=True)\n",
    "datos2015.drop(datos2015.columns[22:29], axis=1, inplace=True)\n",
    "datos2015.drop(datos2015.columns[34:41], axis=1, inplace=True)\n",
    "#datos2015.to_excel('PRUEBA2015.xlsx', index=False)\n",
    "\n",
    "#Eliminar columnas que no se utilizaran. 2016: (13:14,21:28,33:40)\n",
    "# datos2016.drop(datos2016.columns[13:14], axis=1, inplace=True)\n",
    "# datos2016.drop(datos2016.columns[21:28], axis=1, inplace=True)\n",
    "# datos2016.drop(datos2016.columns[33:40], axis=1, inplace=True)\n",
    "# datos2016.to_excel('PRUEBA2016.xlsx', index=False)\n"
   ]
  },
  {
   "cell_type": "markdown",
   "metadata": {},
   "source": [
    "#### REINDEXAR LAS COLUMNAS"
   ]
  },
  {
   "cell_type": "code",
   "execution_count": null,
   "metadata": {},
   "outputs": [],
   "source": [
    "#Reindexar las columnas\n",
    "datos2015 = datos2015.reindex(columns=[\n",
    "    'CLAVEENTIDAD', 'NOMBREESCUELA', 'CLAVE ESCUELA', 'NOMMUNICIPIO', 'NOMLOCALIDAD', \n",
    "    'GRADOMARGINACION', 'ALUMNOSPROGRAMADOS', 'ALUMNOSEV', '%ALUMNOSEV2015', 'ALUMNOSEVMENOR80', \n",
    "    'ALUMNOSCONTESTARON50OMASDELYC', 'ALUMNOSCONTESTARON50OMASDEMATE', \n",
    "    'ALUMNOSLYCNIVEL1', 'ALUMNOSLYCNIVEL2', 'ALUMNOSLYCNIVEL3', 'ALUMNOSLYCNIVEL4',\n",
    "    'ALUMNOSMISMAENTIDADSUBSISTEMAYGRADODELYCNVL1', 'ALUMNOSMISMAENTIDADSUBSISTEMAYGRADODELYCNVL2', \n",
    "    'ALUMNOSMISMAENTIDADSUBSISTEMAYGRADODELYCNVL3', 'ALUMNOSMISMAENTIDADSUBSISTEMAYGRADODELYCNVL4',\n",
    "    'ALUMNOSMISMOSUBYGRADODELYCNVL1', 'ALUMNOSMISMOSUBYGRADODELYCNVL2', \n",
    "    'ALUMNOSMISMOSUBYGRADODELYCNVL3', 'ALUMNOSMISMOSUBYGRADODELYCNVL4',\n",
    "    'ALUMNOSENMATENVL1', 'ALUMNOSENMATENVL2', 'ALUMNOSENMATENVL3', 'ALUMNOSENMATENVL4',\n",
    "    'ALUMNOSMISMAENTIDADSUBSISTEMAYGRADODEMATENVL1', 'ALUMNOSMISMAENTIDADSUBSISTEMAYGRADODEMATENVL2', \n",
    "    'ALUMNOSMISMAENTIDADSUBSISTEMAYGRADODEMATENVL3', 'ALUMNOSMISMAENTIDADSUBSISTEMAYGRADODEMATENVL4',\n",
    "    'ALUMNOSMISMOSUBSISTEMAYGRADODEMATENVL1', 'ALUMNOSMISMOSUBSISTEMAYGRADODEMATENVL2', \n",
    "    'ALUMNOSMISMOSUBSISTEMAYGRADODEMATENVL3', 'ALUMNOSMISMOSUBSISTEMAYGRADODEMATENVL4'\n",
    "])\n",
    "\n",
    "datos2016 = datos2016.reindex(columns=[\n",
    "    'CLAVEENTIDAD', 'NOMBREESCUELA', 'CLAVE ESCUELA', 'NOMMUNICIPIO', 'NOMLOCALIDAD', \n",
    "    'GRADOMARGINACION', 'ALUMNOSPROGRAMADOS', 'RESULTADOREPRESENTATIVOLYC', \n",
    "    'RESULTADOREPRESENTATIVOMATEMATICAS', 'ALUMNOSCONTESTARONTODASSESIONESLYC', \n",
    "    'ALUMNOSCONTESTARONTODASSESIONESMATEMATICAS', \n",
    "    'ALUMNOSENLYCNVL1', 'ALUMNOSENLYCNVL2', 'ALUMNOSENLYCNVL3', 'ALUMNOSENLYCNVL4',\n",
    "    'ALUMNOSDELAMISMAENTIDADSUBSISTEMAYGRADOENLYCNVL1', 'ALUMNOSDELAMISMAENTIDADSUBSISTEMAYGRADOENLYCNVL2', \n",
    "    'ALUMNOSDELAMISMAENTIDADSUBSISTEMAYGRADOENLYCNVL3', 'ALUMNOSDELAMISMAENTIDADSUBSISTEMAYGRADOENLYCNVL4',\n",
    "    'ALUMNOSMISMOSUBSISTEMAYGRADOENLYCNVL1', 'ALUMNOSMISMOSUBSISTEMAYGRADOENLYCNVL2', \n",
    "    'ALUMNOSMISMOSUBSISTEMAYGRADOENLYCNVL3', 'ALUMNOSMISMOSUBSISTEMAYGRADOENLYCNVL4',\n",
    "    'ALUMNOSDEMATENVL1', 'ALUMNOSDEMATENVL2', 'ALUMNOSDEMATENVL3', 'ALUMNOSDEMATENVL4',\n",
    "    'ALUMNOSMISMAENTIDADSUBSISTEMAGRADOENMATEMATICASNVL1', 'ALUMNOSMISMAENTIDADSUBSISTEMAGRADOENMATEMATICASNVL2', \n",
    "    'ALUMNOSMISMAENTIDADSUBSISTEMAGRADOENMATEMATICASNVL3', 'ALUMNOSMISMAENTIDADSUBSISTEMAGRADOENMATEMATICASNVL4',\n",
    "    'ALUMNOSMISMOSUBSISTEMAYGRADOENMATENVL1', 'ALUMNOSMISMOSUBSISTEMAYGRADOENMATENVL2', \n",
    "    'ALUMNOSMISMOSUBSISTEMAYGRADOENMATENVL3', 'ALUMNOSMISMOSUBSISTEMAYGRADOENMATENVL4'\n",
    "])\n",
    "\n",
    "datos2017 = datos2017.reindex(columns=[\n",
    "    'CLAVEENTIDAD', 'NOMBREESCUELA', 'CLAVE ESCUELA', 'NOMMUNICIPIO', 'NOMLOCALIDAD', \n",
    "    'GRADOMARGINACION', 'MATRICULAULTIMOSALUMNOS', 'ALUMNOSPROGRAMADOS', \n",
    "    'ALUMNOSEVALUADOSLYC', 'ALUMNOSEVALUADOSMATE', 'SONALUMNOSREPRESENTATIVOSDELYC', \n",
    "    'SONALUMNOSREPRESENTATIVOSDEMATE', 'ESCUELASPARECIDAS',\n",
    "    'CANTALUMNOSLYCNIVELDELOGRO1', 'CANTALUMNOSLYCNIVELDELOGRO2', 'CANTALUMNOSLYCNIVELDELOGRO3', 'CANTALUMNOSLYCNIVELDELOGRO4',\n",
    "    'PORCENTAJEALUMNOSLYCNVL1', 'PORCENTAJEALUMNOSLYCNVL2', 'PORCENTAJEALUMNOSLYCNVL3', 'PORCENTAJEALUMNOSLYCNVL4',\n",
    "    'PORCENTAJEALUMNOSESCUELASPARECIDASLYCNVL1', 'PORCENTAJEALUMNOSESCUELASPARECIDASLYCNVL2', \n",
    "    'PORCENTAJEALUMNOSESCUELASPARECIDASLYCNVL3', 'PORCENTAJEALUMNOSESCUELASPARECIDASLYCNVL4',\n",
    "    'PORCENTAJEALUMNOSESCUELASMEXLYCNVL1', 'PORCENTAJEALUMNOSESCUELASMEXLYCNVL2', \n",
    "    'PORCENTAJEALUMNOSESCUELASMEXLYCNVL3', 'PORCENTAJEALUMNOSESCUELASMEXLYCNVL4',\n",
    "    'CANTALUMNOSMATENVL1', 'CANTALUMNOSMATENVL2', 'CANTALUMNOSMATENVL3', 'CANTALUMNOSMATENVL4',\n",
    "    'PORCENTAJEALUMNOSMATENVL1', 'PORCENTAJEALUMNOSMATENVL2', 'PORCENTAJEALUMNOSMATENVL3', 'PORCENTAJEALUMNOSMATENVL4',\n",
    "    'PORCENTAJEALUMNOSESCUELASPARECIDASMXMATENVL1', 'PORCENTAJEALUMNOSESCUELASPARECIDASMXMATENVL2', \n",
    "    'PORCENTAJEALUMNOSESCUELASPARECIDASMXMATENVL3', 'PORCENTAJEALUMNOSESCUELASPARECIDASMXMATENVL4',\n",
    "    'PORCENTAJEALUMNOSESCUELASMXMATENVL1', 'PORCENTAJEALUMNOSESCUELASMXMATENVL2', \n",
    "    'PORCENTAJEALUMNOSESCUELASMXMATENVL3', 'PORCENTAJEALUMNOSESCUELASMXMATENVL4'\n",
    "])\n"
   ]
  },
  {
   "cell_type": "markdown",
   "metadata": {},
   "source": [
    "#### QUITAR VALORES NULOS"
   ]
  },
  {
   "cell_type": "code",
   "execution_count": null,
   "metadata": {},
   "outputs": [],
   "source": [
    "# Reglas 2015\n",
    "#Imprimir columnas de datos2015\n",
    "print(datos2015.columns)\n",
    "# Valores nulos en NOMBRELOCALIDAD, asignarle el mismo valor que NOMBREMUNICIPIO\n",
    "#datos2015=datos2015['NOMLOCALIDAD'].fillna(datos2015['NOMMUNICIPIO'], inplace=True)\n",
    "\n",
    "#Valores nulos en EXTENSIÓN, asignarle el valor EXTENSIÓN 0\n",
    "datos2015['EXTENSIÓN'] = datos2015['EXTENSIÓN'].fillna('EXTENSIÓN 0')\n",
    "\n",
    "\n",
    "#Encontrar '*****' y sustituir por 0.0\n",
    "datos2015 = datos2015.replace('*****','0.0')\n",
    "\n",
    "\n",
    "\n",
    "datos2015.to_excel('PRUEBA2015SINEXTENSION.xlsx', index=False)\n"
   ]
  },
  {
   "cell_type": "markdown",
   "metadata": {},
   "source": [
    "#### CONVERSION DE DATOS"
   ]
  },
  {
   "cell_type": "code",
   "execution_count": null,
   "metadata": {},
   "outputs": [],
   "source": [
    "#Convertir de cadena a flotante\n",
    "#Imprimir que tipo de datos es la columna 'ALUMNOSLYCNIVEL1'\n",
    "\n",
    "\n",
    "# Reemplazar valores no numéricos como '*****' o cadenas vacías con 0.0\n",
    "datos2015['ALUMNOSLYCNIVEL1'] = datos2015['ALUMNOSLYCNIVEL1'].replace(['*****', '', ' '], '0.0')\n",
    "\n",
    "# Convertir la columna a tipo float\n",
    "datos2015['ALUMNOSLYCNIVEL1'] = pd.to_numeric(datos2015['ALUMNOSLYCNIVEL1'], errors='coerce')\n",
    "\n",
    "# Reemplazar valores NaN (generados por errores de conversión) con 0.0\n",
    "datos2015['ALUMNOSLYCNIVEL1'] = datos2015['ALUMNOSLYCNIVEL1'].fillna(0.0)\n",
    "\n",
    "# Reemplazar valores no numéricos como '*****' o cadenas vacías con 0.0\n",
    "datos2015['ALUMNOSLYCNIVEL2'] = datos2015['ALUMNOSLYCNIVEL2'].replace(['*****', '', ' '], '0.0')\n",
    "\n",
    "# Convertir la columna a tipo float\n",
    "datos2015['ALUMNOSLYCNIVEL2'] = pd.to_numeric(datos2015['ALUMNOSLYCNIVEL2'], errors='coerce')\n",
    "\n",
    "# Reemplazar valores NaN (generados por errores de conversión) con 0.0\n",
    "datos2015['ALUMNOSLYCNIVEL2'] = datos2015['ALUMNOSLYCNIVEL2'].fillna(0.0)\n",
    "\n",
    "# Reemplazar valores no numéricos como '*****' o cadenas vacías con 0.0\n",
    "datos2015['ALUMNOSLYCNIVEL3'] = datos2015['ALUMNOSLYCNIVEL3'].replace(['*****', '', ' '], '0.0')\n",
    "\n",
    "# Convertir la columna a tipo float\n",
    "datos2015['ALUMNOSLYCNIVEL3'] = pd.to_numeric(datos2015['ALUMNOSLYCNIVEL3'], errors='coerce')\n",
    "\n",
    "# Reemplazar valores NaN (generados por errores de conversión) con 0.0\n",
    "datos2015['ALUMNOSLYCNIVEL3'] = datos2015['ALUMNOSLYCNIVEL3'].fillna(0.0)\n",
    "\n",
    "# Reemplazar valores no numéricos como '*****' o cadenas vacías con 0.0\n",
    "datos2015['ALUMNOSLYCNIVEL4'] = datos2015['ALUMNOSLYCNIVEL4'].replace(['*****', '', ' '], '0.0')\n",
    "\n",
    "# Convertir la columna a tipo float\n",
    "datos2015['ALUMNOSLYCNIVEL4'] = pd.to_numeric(datos2015['ALUMNOSLYCNIVEL4'], errors='coerce')\n",
    "\n",
    "# Reemplazar valores NaN (generados por errores de conversión) con 0.0\n",
    "datos2015['ALUMNOSLYCNIVEL4'] = datos2015['ALUMNOSLYCNIVEL4'].fillna(0.0)\n",
    "\n",
    "\n",
    "\n"
   ]
  }
 ],
 "metadata": {
  "kernelspec": {
   "display_name": "Python 3",
   "language": "python",
   "name": "python3"
  },
  "language_info": {
   "codemirror_mode": {
    "name": "ipython",
    "version": 3
   },
   "file_extension": ".py",
   "mimetype": "text/x-python",
   "name": "python",
   "nbconvert_exporter": "python",
   "pygments_lexer": "ipython3",
   "version": "3.13.1"
  }
 },
 "nbformat": 4,
 "nbformat_minor": 2
}
