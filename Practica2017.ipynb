{
 "cells": [
  {
   "cell_type": "code",
   "execution_count": 95,
   "metadata": {},
   "outputs": [],
   "source": [
    "import pandas as pd\n",
    "import numpy as np\n",
    "import warnings\n",
    "\n",
    "datos2017=pd.read_excel('./datosUnificados/datos2017.xlsx')\n",
    "datos2017.drop('TOTAL DE ALUMNOS EN EL ÚLTIMO GRADO (MATRÍCULA)', axis=1, inplace=True)\n",
    "datos2017.drop('PORCENTAJE (%) DE ALUMNOS EVALUADOS',axis=1,inplace=True)\n",
    "datos2017.drop('Unnamed: 16',axis=1,inplace=True)\n",
    "datos2017.drop('LOS ALUMNOS EVALUADOS SON REPRESENTATIVOS DE LA TOTALIDAD DE LOS ESTUDIANTES DE LA ESCUELA?',axis=1,inplace=True)\n",
    "datos2017.drop('Unnamed: 18',axis=1,inplace=True)\n",
    "datos2017.drop('ESCUELAS PARECIDAS PARA COMPARACIÓN',axis=1,inplace=True)\n",
    "datos2017.drop('Unnamed: 28',axis=1,inplace=True)\n",
    "datos2017.drop('Unnamed: 29',axis=1,inplace=True)\n",
    "datos2017.drop('Unnamed: 30',axis=1,inplace=True)\n",
    "datos2017.drop('Unnamed: 31',axis=1,inplace=True)\n",
    "datos2017.drop('Unnamed: 32',axis=1,inplace=True)\n",
    "datos2017.drop('Unnamed: 33',axis=1,inplace=True)\n",
    "datos2017.drop('Unnamed: 34',axis=1,inplace=True)\n",
    "datos2017.drop('Unnamed: 35',axis=1,inplace=True)\n",
    "datos2017.drop('Unnamed: 44',axis=1,inplace=True)\n",
    "datos2017.drop('Unnamed: 45',axis=1,inplace=True)\n",
    "datos2017.drop('Unnamed: 46',axis=1,inplace=True)\n",
    "datos2017.drop('Unnamed: 47',axis=1,inplace=True)\n",
    "datos2017.drop('Unnamed: 48',axis=1,inplace=True)\n",
    "datos2017.drop('Unnamed: 49',axis=1,inplace=True)\n",
    "datos2017.drop('Unnamed: 50',axis=1,inplace=True)\n",
    "datos2017.drop('Unnamed: 51',axis=1,inplace=True)\n",
    "\n",
    "datos2017.to_excel('./datosModificados/datos2017.xlsx', index=False)"
   ]
  },
  {
   "cell_type": "code",
   "execution_count": 96,
   "metadata": {},
   "outputs": [],
   "source": [
    "# Renombrando las columnas\n",
    "\n",
    "datos2017 = datos2017.rename(columns={'NIVELES DE LOGRO EN LENGUAJE Y COMUNICACIÓN': 'CANTIDAD ALUMNOS EN LENGUAJE Y COMUNICACIÓN NIVEL I'})\n",
    "datos2017 = datos2017.rename(columns={'Unnamed: 21': 'CANTIDAD ALUMNOS EN LENGUAJE Y COMUNICACIÓN NIVEL II'})\n",
    "datos2017 = datos2017.rename(columns={'Unnamed: 22': 'CANTIDAD ALUMNOS EN LENGUAJE Y COMUNICACIÓN NIVEL III'})\n",
    "datos2017 = datos2017.rename(columns={'Unnamed: 23': 'CANTIDAD ALUMNOS EN LENGUAJE Y COMUNICACIÓN NIVEL IV'})\n",
    "\n",
    "datos2017 = datos2017.rename(columns={'Unnamed: 24': '% ALUMNOS EN LENGUAJE Y COMUNICACIÓN NIVEL I'})\n",
    "datos2017 = datos2017.rename(columns={'Unnamed: 25': '% ALUMNOS EN LENGUAJE Y COMUNICACIÓN NIVEL II'})\n",
    "datos2017 = datos2017.rename(columns={'Unnamed: 26': '% ALUMNOS EN LENGUAJE Y COMUNICACIÓN NIVEL III'})\n",
    "datos2017 = datos2017.rename(columns={'Unnamed: 27': '% ALUMNOS EN LENGUAJE Y COMUNICACIÓN NIVEL IV'})\n",
    "\n",
    "datos2017 = datos2017.rename(columns={'NIVELES DE LOGRO EN MATEMÁTICAS': 'CANTIDAD ALUMNOS EN MATEMÁTICAS NIVEL I'})\n",
    "datos2017 = datos2017.rename(columns={'Unnamed: 37': 'CANTIDAD ALUMNOS EN MATEMÁTICAS NIVEL II'})\n",
    "datos2017 = datos2017.rename(columns={'Unnamed: 38': 'CANTIDAD ALUMNOS EN MATEMÁTICAS NIVEL III'})\n",
    "datos2017 = datos2017.rename(columns={'Unnamed: 39': 'CANTIDAD ALUMNOS EN MATEMÁTICAS NIVEL IV'})\n",
    "\n",
    "datos2017 = datos2017.rename(columns={'Unnamed: 40': '% ALUMNOS EN MATEMÁTICAS NIVEL I'})\n",
    "datos2017 = datos2017.rename(columns={'Unnamed: 41': '% ALUMNOS EN MATEMÁTICAS NIVEL II'})\n",
    "datos2017 = datos2017.rename(columns={'Unnamed: 42': '% ALUMNOS EN MATEMÁTICAS NIVEL III'})\n",
    "datos2017 = datos2017.rename(columns={'Unnamed: 43': '% ALUMNOS EN MATEMÁTICAS NIVEL IV'})\n",
    "\n",
    "datos2017 = datos2017.rename(columns={'ALUMNOS EVALUADOS':'ALUMNOS EVALUADOS LENGUAJE Y COMUNICACIÓN'})\n",
    "datos2017 = datos2017.rename(columns={'Unnamed: 14':'ALUMNOS EVALUADOS MATEMÁTICAS'})\n",
    "datos2017 = datos2017.rename(columns={'ALUMNOS  PROGRAMADOS':'ALUMNOS PROGRAMADOS'})\n",
    "\n",
    "datos2017 = datos2017.rename(columns={'GRADO DE MARGINACIÓN (CONAPO) DE LA LOCALIDAD DONDE SE UBICA EL CT':'GRADO DE MARGINACIÓN DE LA LOCALIDAD DONDE SE UBICA EL CCT'})\n",
    "\n",
    "datos2017.to_excel('./datosModificados/datos2017.xlsx', index=False)"
   ]
  },
  {
   "cell_type": "code",
   "execution_count": 97,
   "metadata": {},
   "outputs": [],
   "source": [
    "#Agregar la columna alumnos evaluados cuyo valor será igual al valor mayor de las columnas alumnos evaluados de matematicas o lenguaje y com\n",
    "datos2017['ALUMNOS EVALUADOS'] = datos2017[['ALUMNOS EVALUADOS LENGUAJE Y COMUNICACIÓN','ALUMNOS EVALUADOS MATEMÁTICAS']].max(axis=1)\n",
    "#datos2017['ALUMNOS EVALUADOS'] = np.where(datos2017['ALUMNOS EVALUADOS'] > datos2017['Unnamed: 14'], datos2017['ALUMNOS EVALUADOS'], datos2017['Unnamed: 14'])\n",
    "\n",
    "#Eliminar las columnas de lyc y mate una vez hecha la columna de alumnos evaluados\n",
    "# datos2017.drop('ALUMNOS EVALUADOS LENGUAJE Y COMUNICACIÓN',axis=1,inplace=True)\n",
    "# datos2017.drop('ALUMNOS EVALUADOS MATEMÁTICAS',axis=1,inplace=True)\n",
    "\n",
    "datos2017.to_excel('./datosModificados/datos2017.xlsx', index=False)\n"
   ]
  },
  {
   "cell_type": "code",
   "execution_count": 98,
   "metadata": {},
   "outputs": [],
   "source": [
    "#Acomodar con el metodo reindex\n",
    "datos2017 = datos2017.reindex([\n",
    "    'CLAVE DE LA ENTIDAD', 'ENTIDAD', 'CLAVE DE LA ESCUELA', 'NOMBRE DE LA ESCUELA', \n",
    "    'TURNO', 'EXTENSIÓN', 'NOMBRE DEL MUNICIPIO', 'NOMBRE DE LA LOCALIDAD', \n",
    "    'SUBSISTEMA', 'GRADO DE MARGINACIÓN DE LA LOCALIDAD DONDE SE UBICA EL CCT', \n",
    "    'SOSTENIMIENTO', 'ALUMNOS PROGRAMADOS','ALUMNOS EVALUADOS','ALUMNOS EVALUADOS LENGUAJE Y COMUNICACIÓN',\n",
    "    'ALUMNOS EVALUADOS MATEMÁTICAS','CANTIDAD ALUMNOS EN LENGUAJE Y COMUNICACIÓN NIVEL I',\n",
    "    'CANTIDAD ALUMNOS EN LENGUAJE Y COMUNICACIÓN NIVEL II','CANTIDAD ALUMNOS EN LENGUAJE Y COMUNICACIÓN NIVEL III',\n",
    "    'CANTIDAD ALUMNOS EN LENGUAJE Y COMUNICACIÓN NIVEL IV',\n",
    "    '% ALUMNOS EN LENGUAJE Y COMUNICACIÓN NIVEL I', '% ALUMNOS EN LENGUAJE Y COMUNICACIÓN NIVEL II', \n",
    "    '% ALUMNOS EN LENGUAJE Y COMUNICACIÓN NIVEL III', '% ALUMNOS EN LENGUAJE Y COMUNICACIÓN NIVEL IV',\n",
    "    'CANTIDAD ALUMNOS EN MATEMÁTICAS NIVEL I','CANTIDAD ALUMNOS EN MATEMÁTICAS NIVEL II',\n",
    "    'CANTIDAD ALUMNOS EN MATEMÁTICAS NIVEL III',\n",
    "    'CANTIDAD ALUMNOS EN MATEMÁTICAS NIVEL IV',\n",
    "    '% ALUMNOS EN MATEMÁTICAS NIVEL I', '% ALUMNOS EN MATEMÁTICAS NIVEL II', \n",
    "    '% ALUMNOS EN MATEMÁTICAS NIVEL III', '% ALUMNOS EN MATEMÁTICAS NIVEL IV',\n",
    "], axis=1)\n",
    "datos2017.to_excel('./datosModificados/datos2017.xlsx', index=False)"
   ]
  },
  {
   "cell_type": "code",
   "execution_count": 99,
   "metadata": {},
   "outputs": [],
   "source": [
    "#Pasar a float las columnas de los niveles o porcentajes\n",
    "#dejar nalgo, coerce nada\n",
    "columnas = [\n",
    "    \"% ALUMNOS EN LENGUAJE Y COMUNICACIÓN NIVEL I\",\n",
    "    \"% ALUMNOS EN LENGUAJE Y COMUNICACIÓN NIVEL II\",\n",
    "    \"% ALUMNOS EN LENGUAJE Y COMUNICACIÓN NIVEL III\",\n",
    "    \"% ALUMNOS EN LENGUAJE Y COMUNICACIÓN NIVEL IV\",\n",
    "    \"% ALUMNOS EN MATEMÁTICAS NIVEL I\",\n",
    "    \"% ALUMNOS EN MATEMÁTICAS NIVEL II\",\n",
    "    \"% ALUMNOS EN MATEMÁTICAS NIVEL III\",\n",
    "    \"% ALUMNOS EN MATEMÁTICAS NIVEL IV\"\n",
    "]\n",
    "for col in columnas:\n",
    "    datos2017[col] = pd.to_numeric(datos2017[col], errors='coerce') \n",
    "datos2017.to_excel('./datosModificados/datos2017.xlsx', index=False)"
   ]
  },
  {
   "cell_type": "code",
   "execution_count": 100,
   "metadata": {},
   "outputs": [],
   "source": [
    "#Pasar de float a INT\n",
    "columnas = [\n",
    "    \"CANTIDAD ALUMNOS EN LENGUAJE Y COMUNICACIÓN NIVEL I\",\n",
    "    \"CANTIDAD ALUMNOS EN LENGUAJE Y COMUNICACIÓN NIVEL II\",\n",
    "    \"CANTIDAD ALUMNOS EN LENGUAJE Y COMUNICACIÓN NIVEL III\",\n",
    "    \"CANTIDAD ALUMNOS EN LENGUAJE Y COMUNICACIÓN NIVEL IV\",\n",
    "    \"CANTIDAD ALUMNOS EN MATEMÁTICAS NIVEL I\",\n",
    "    \"CANTIDAD ALUMNOS EN MATEMÁTICAS NIVEL II\",\n",
    "    \"CANTIDAD ALUMNOS EN MATEMÁTICAS NIVEL III\",\n",
    "    \"CANTIDAD ALUMNOS EN MATEMÁTICAS NIVEL IV\",\n",
    "    \"ALUMNOS EVALUADOS\",\n",
    "    \"ALUMNOS PROGRAMADOS\",\n",
    "    \"ALUMNOS EVALUADOS LENGUAJE Y COMUNICACIÓN\",\n",
    "    \"ALUMNOS EVALUADOS MATEMÁTICAS\",\n",
    "]\n",
    "for col in columnas:\n",
    "    datos2017[col] = pd.to_numeric(datos2017[col], errors='coerce') \n",
    "    datos2017[col] = datos2017[col].fillna(0).astype(int)\n",
    "datos2017.to_excel('./datosModificados/datos2017.xlsx', index=False)"
   ]
  },
  {
   "cell_type": "code",
   "execution_count": 101,
   "metadata": {},
   "outputs": [
    {
     "name": "stderr",
     "output_type": "stream",
     "text": [
      "C:\\Users\\hiper\\AppData\\Local\\Temp\\ipykernel_20864\\4239527933.py:2: FutureWarning: A value is trying to be set on a copy of a DataFrame or Series through chained assignment using an inplace method.\n",
      "The behavior will change in pandas 3.0. This inplace method will never work because the intermediate object on which we are setting values always behaves as a copy.\n",
      "\n",
      "For example, when doing 'df[col].method(value, inplace=True)', try using 'df.method({col: value}, inplace=True)' or df[col] = df[col].method(value) instead, to perform the operation inplace on the original object.\n",
      "\n",
      "\n",
      "  datos2017['EXTENSIÓN'].fillna('EXTENSIÓN 0', inplace=True)\n"
     ]
    },
    {
     "name": "stdout",
     "output_type": "stream",
     "text": [
      "['EXTENSIÓN 0' 'EXTENSION 1' 'EXTENSION 2' 'EXTENSION 3' 'EXTENSION 4'\n",
      " 'EXTENSION 5' 'EXTENSION 6A' 'EXTENSION 11' 'EXTENSION 14' 'EXTENSION 17'\n",
      " 'EXTENSION 22' 'EXTENSION 26' 'EXTENSION 19' 'EXTENSION 21'\n",
      " 'EXTENSION 25' 'EXTENSION' 'EXTENSION 24' 'EXTENSION 10' 'EXTENSION 6'\n",
      " 'EXTENSION 8' 'EXTENSION 7']\n"
     ]
    }
   ],
   "source": [
    "#Reemplazar los valores nulos de la columna 'EXTENSIÓN' por 'EXTENSIÓN 0'\n",
    "datos2017['EXTENSIÓN'].fillna('EXTENSIÓN 0', inplace=True)\n",
    "datos2017.to_excel('./datosModificados/datos2017.xlsx', index=False)\n",
    "\n",
    "# Imprimir los valores de la columna 'EXTENSIÓN' para verificar los valores únicos\n",
    "unique_values = datos2017['EXTENSIÓN'].unique()\n",
    "print(unique_values)"
   ]
  },
  {
   "cell_type": "code",
   "execution_count": 102,
   "metadata": {},
   "outputs": [
    {
     "name": "stdout",
     "output_type": "stream",
     "text": [
      "['nan' '31DTA0014F']\n",
      "['nan']\n"
     ]
    }
   ],
   "source": [
    "# Obtener las claves de las escuela que tienen nombre de escuela nulo\n",
    "datos2017['CLAVE DE LA ESCUELA'] = datos2017['CLAVE DE LA ESCUELA'].astype(str)\n",
    "nulos = datos2017[datos2017['NOMBRE DE LA ESCUELA'].isnull()]['CLAVE DE LA ESCUELA'].unique()\n",
    "print(nulos)\n",
    "\n",
    "datos2017.loc[datos2017['CLAVE DE LA ESCUELA'] == '31DTA0014F', 'NOMBRE DE LA ESCUELA'] = 'CENTRO DE BACHILLERATO TECNOLÓGICO Y BACHILLERATO AGROPECUARIO NUM. 14'\t\n",
    "\n",
    "# Obtener las claves de las escuela que tienen nombre de escuela nulo\n",
    "datos2017['CLAVE DE LA ESCUELA'] = datos2017['CLAVE DE LA ESCUELA'].astype(str)\n",
    "nulos = datos2017[datos2017['NOMBRE DE LA ESCUELA'].isnull()]['CLAVE DE LA ESCUELA'].unique()\n",
    "print(nulos)"
   ]
  },
  {
   "cell_type": "code",
   "execution_count": 103,
   "metadata": {},
   "outputs": [],
   "source": [
    "# Eliminar filas con no tienen almenos 15 valores no nulos\n",
    "datos2017 = datos2017.dropna(thresh=15)\n",
    "datos2017.to_excel('./datosModificados/datos2017.xlsx', index=False)"
   ]
  },
  {
   "cell_type": "code",
   "execution_count": 104,
   "metadata": {},
   "outputs": [],
   "source": [
    "# Llenar con 0.0 los nulos en '% ALUMNOS EN LENGUAJE Y COMUNICACIÓN NIVEL I' si la cantidad de alimnos es 0\n",
    "datos2017.loc[datos2017['ALUMNOS EVALUADOS LENGUAJE Y COMUNICACIÓN'] == 0, '% ALUMNOS EN LENGUAJE Y COMUNICACIÓN NIVEL I'] = 0.0\n",
    "datos2017.loc[datos2017['ALUMNOS EVALUADOS LENGUAJE Y COMUNICACIÓN'] == 0, '% ALUMNOS EN LENGUAJE Y COMUNICACIÓN NIVEL II'] = 0.0\n",
    "datos2017.loc[datos2017['ALUMNOS EVALUADOS LENGUAJE Y COMUNICACIÓN'] == 0, '% ALUMNOS EN LENGUAJE Y COMUNICACIÓN NIVEL III'] = 0.0\n",
    "datos2017.loc[datos2017['ALUMNOS EVALUADOS LENGUAJE Y COMUNICACIÓN'] == 0, '% ALUMNOS EN LENGUAJE Y COMUNICACIÓN NIVEL IV'] = 0.0\n",
    "# Llenar con 0.0 los nulos en '% ALUMNOS EN MATEMÁTICAS NIVEL I' si la cantidad de alimnos es 0\n",
    "datos2017.loc[datos2017['ALUMNOS EVALUADOS MATEMÁTICAS'] == 0, '% ALUMNOS EN MATEMÁTICAS NIVEL I'] = 0.0\n",
    "datos2017.loc[datos2017['ALUMNOS EVALUADOS MATEMÁTICAS'] == 0, '% ALUMNOS EN MATEMÁTICAS NIVEL II'] = 0.0\n",
    "datos2017.loc[datos2017['ALUMNOS EVALUADOS MATEMÁTICAS'] == 0, '% ALUMNOS EN MATEMÁTICAS NIVEL III'] = 0.0\n",
    "datos2017.loc[datos2017['ALUMNOS EVALUADOS MATEMÁTICAS'] == 0, '% ALUMNOS EN MATEMÁTICAS NIVEL IV'] = 0.0\n"
   ]
  },
  {
   "cell_type": "code",
   "execution_count": 105,
   "metadata": {},
   "outputs": [
    {
     "name": "stdout",
     "output_type": "stream",
     "text": [
      "Columnas con valores nulos:\n",
      "\n",
      "Columnas con NaN:\n",
      "\n",
      "Filas con valores nulos:\n",
      "\n",
      "Filas con NaN:\n"
     ]
    }
   ],
   "source": [
    "# Imprimir el nombre de las columnas que tienen valores nulos\n",
    "print(\"Columnas con valores nulos:\")\n",
    "for col in datos2017.columns:\n",
    "    if datos2017[col].isnull().any():\n",
    "        print(col)\n",
    "\n",
    "# Imprimir el nombre de las columnas con NaN\n",
    "print(\"\\nColumnas con NaN:\")\n",
    "for col in datos2017.columns:\n",
    "    if datos2017[col].isnull().any():\n",
    "        print(col)\n",
    "\n",
    "# Imprimir el numero de la fila donde hay valores nulos\n",
    "print(\"\\nFilas con valores nulos:\")\n",
    "for index, row in datos2017.iterrows():\n",
    "    if row.isnull().any():\n",
    "        print(f\"Fila {index}: {row[row.isnull()].index.tolist()}\")\n",
    "\n",
    "# Imprimir el numero de la fila donde hay NaN\n",
    "print(\"\\nFilas con NaN:\")\n",
    "for index, row in datos2017.iterrows():\n",
    "    if row.isnull().any():\n",
    "        print(f\"Fila {index}: {row[row.isnull()].index.tolist()}\")"
   ]
  },
  {
   "cell_type": "code",
   "execution_count": 106,
   "metadata": {},
   "outputs": [],
   "source": [
    "#Acomodar con el metodo reindex\n",
    "datos2017 = datos2017.reindex([\n",
    "    'CLAVE DE LA ENTIDAD', 'ENTIDAD', 'CLAVE DE LA ESCUELA', 'NOMBRE DE LA ESCUELA', \n",
    "    'TURNO', 'EXTENSIÓN', 'NOMBRE DEL MUNICIPIO', 'NOMBRE DE LA LOCALIDAD', \n",
    "    'SUBSISTEMA', 'GRADO DE MARGINACIÓN DE LA LOCALIDAD DONDE SE UBICA EL CCT', \n",
    "    'SOSTENIMIENTO', 'ALUMNOS PROGRAMADOS','ALUMNOS EVALUADOS',\n",
    "    '% ALUMNOS EN LENGUAJE Y COMUNICACIÓN NIVEL I', '% ALUMNOS EN LENGUAJE Y COMUNICACIÓN NIVEL II', \n",
    "    '% ALUMNOS EN LENGUAJE Y COMUNICACIÓN NIVEL III', '% ALUMNOS EN LENGUAJE Y COMUNICACIÓN NIVEL IV',\n",
    "    '% ALUMNOS EN MATEMÁTICAS NIVEL I', '% ALUMNOS EN MATEMÁTICAS NIVEL II', \n",
    "    '% ALUMNOS EN MATEMÁTICAS NIVEL III', '% ALUMNOS EN MATEMÁTICAS NIVEL IV',\n",
    "    'CANTIDAD ALUMNOS EN LENGUAJE Y COMUNICACIÓN NIVEL I',\n",
    "    'CANTIDAD ALUMNOS EN LENGUAJE Y COMUNICACIÓN NIVEL II','CANTIDAD ALUMNOS EN LENGUAJE Y COMUNICACIÓN NIVEL III',\n",
    "    'CANTIDAD ALUMNOS EN LENGUAJE Y COMUNICACIÓN NIVEL IV',\n",
    "    'CANTIDAD ALUMNOS EN MATEMÁTICAS NIVEL I','CANTIDAD ALUMNOS EN MATEMÁTICAS NIVEL II',\n",
    "    'CANTIDAD ALUMNOS EN MATEMÁTICAS NIVEL III',\n",
    "    'CANTIDAD ALUMNOS EN MATEMÁTICAS NIVEL IV'\n",
    "], axis=1)\n",
    "datos2017.to_excel('./datosModificados/datos2017.xlsx', index=False)"
   ]
  },
  {
   "cell_type": "code",
   "execution_count": 107,
   "metadata": {},
   "outputs": [
    {
     "data": {
      "text/plain": [
       "CLAVE DE LA ENTIDAD                                           float64\n",
       "ENTIDAD                                                        object\n",
       "CLAVE DE LA ESCUELA                                            object\n",
       "NOMBRE DE LA ESCUELA                                           object\n",
       "TURNO                                                          object\n",
       "EXTENSIÓN                                                      object\n",
       "NOMBRE DEL MUNICIPIO                                           object\n",
       "NOMBRE DE LA LOCALIDAD                                         object\n",
       "SUBSISTEMA                                                     object\n",
       "GRADO DE MARGINACIÓN DE LA LOCALIDAD DONDE SE UBICA EL CCT     object\n",
       "SOSTENIMIENTO                                                  object\n",
       "ALUMNOS PROGRAMADOS                                             int64\n",
       "ALUMNOS EVALUADOS                                               int64\n",
       "% ALUMNOS EN LENGUAJE Y COMUNICACIÓN NIVEL I                  float64\n",
       "% ALUMNOS EN LENGUAJE Y COMUNICACIÓN NIVEL II                 float64\n",
       "% ALUMNOS EN LENGUAJE Y COMUNICACIÓN NIVEL III                float64\n",
       "% ALUMNOS EN LENGUAJE Y COMUNICACIÓN NIVEL IV                 float64\n",
       "% ALUMNOS EN MATEMÁTICAS NIVEL I                              float64\n",
       "% ALUMNOS EN MATEMÁTICAS NIVEL II                             float64\n",
       "% ALUMNOS EN MATEMÁTICAS NIVEL III                            float64\n",
       "% ALUMNOS EN MATEMÁTICAS NIVEL IV                             float64\n",
       "CANTIDAD ALUMNOS EN LENGUAJE Y COMUNICACIÓN NIVEL I             int64\n",
       "CANTIDAD ALUMNOS EN LENGUAJE Y COMUNICACIÓN NIVEL II            int64\n",
       "CANTIDAD ALUMNOS EN LENGUAJE Y COMUNICACIÓN NIVEL III           int64\n",
       "CANTIDAD ALUMNOS EN LENGUAJE Y COMUNICACIÓN NIVEL IV            int64\n",
       "CANTIDAD ALUMNOS EN MATEMÁTICAS NIVEL I                         int64\n",
       "CANTIDAD ALUMNOS EN MATEMÁTICAS NIVEL II                        int64\n",
       "CANTIDAD ALUMNOS EN MATEMÁTICAS NIVEL III                       int64\n",
       "CANTIDAD ALUMNOS EN MATEMÁTICAS NIVEL IV                        int64\n",
       "dtype: object"
      ]
     },
     "execution_count": 107,
     "metadata": {},
     "output_type": "execute_result"
    }
   ],
   "source": [
    "datos2017.dtypes"
   ]
  },
  {
   "cell_type": "code",
   "execution_count": 1,
   "metadata": {},
   "outputs": [],
   "source": [
    "import pandas as pd\n",
    "# Leer el archivo Excel modificado\n",
    "datos2017 = pd.read_excel('./datosModificados/datos2017.xlsx')\n",
    "\n",
    "# Añadir la columna 'AÑO' con el valor 2017\n",
    "datos2017['AÑO'] = 2017\n",
    "\n",
    "datos2017.to_excel('./datosModificados/datos2017.xlsx', index=False)"
   ]
  }
 ],
 "metadata": {
  "kernelspec": {
   "display_name": "Python 3",
   "language": "python",
   "name": "python3"
  },
  "language_info": {
   "codemirror_mode": {
    "name": "ipython",
    "version": 3
   },
   "file_extension": ".py",
   "mimetype": "text/x-python",
   "name": "python",
   "nbconvert_exporter": "python",
   "pygments_lexer": "ipython3",
   "version": "3.13.1"
  }
 },
 "nbformat": 4,
 "nbformat_minor": 2
}
